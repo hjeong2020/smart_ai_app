{
 "cells": [
  {
   "metadata": {},
   "cell_type": "markdown",
   "source": [
    "# Langchain\n",
    "### Quick start"
   ],
   "id": "3ffd07a2ac9f156b"
  },
  {
   "metadata": {
    "collapsed": true,
    "ExecuteTime": {
     "end_time": "2025-10-13T19:58:05.572972Z",
     "start_time": "2025-10-13T19:57:57.950292Z"
    }
   },
   "cell_type": "code",
   "source": [
    "from langchain.agents import create_agent\n",
    "from langchain_openai import ChatOpenAI\n",
    "\n",
    "llm = ChatOpenAI(\n",
    "    base_url=\"http://localhost:12434/engines/v1\",\n",
    "    api_key=\"docker\",\n",
    "    temperature=0,\n",
    "    model=\"ai/gemma3\",\n",
    "    stream_usage=True\n",
    ")\n",
    "\n",
    "# Build a basic agent\n",
    "\n",
    "def get_weather(city: str) -> str:\n",
    "    \"\"\"Get weather for a given city.\"\"\"\n",
    "    return f\"It's always sunny in {city}!\"\n",
    "\n",
    "agent = create_agent(\n",
    "    llm,\n",
    "    tools=[get_weather],\n",
    "    system_prompt=\"You are a helpful assistant\",\n",
    ")\n",
    "\n",
    "# Run the agent\n",
    "agent.invoke(\n",
    "    {\"messages\": [{\"role\": \"user\", \"content\": \"what is the weather in sf\"}]}\n",
    ")"
   ],
   "id": "11e51be9cc253706",
   "outputs": [
    {
     "data": {
      "text/plain": [
       "{'messages': [HumanMessage(content='what is the weather in sf', additional_kwargs={}, response_metadata={}, id='20265bf4-4592-4e25-bd64-ff7a8708f26c'),\n",
       "  AIMessage(content='', additional_kwargs={'refusal': None}, response_metadata={'token_usage': {'completion_tokens': 43, 'prompt_tokens': 250, 'total_tokens': 293, 'completion_tokens_details': None, 'prompt_tokens_details': None}, 'model_provider': 'openai', 'model_name': 'ai/gemma3', 'system_fingerprint': 'b1-ca71fb9', 'id': 'chatcmpl-n1FX31AZw7CRCpv1hVMvuUFq6YoxaHyq', 'service_tier': None, 'finish_reason': 'tool_calls', 'logprobs': None}, id='lc_run--a7d5c92b-d8e9-488a-ad70-21850d811fbd-0', tool_calls=[{'name': 'get_weather', 'args': {'city': 'sf'}, 'id': 'SkbsEIBNzlv46GqBoiQ8dxWsAqyS9azN', 'type': 'tool_call'}], usage_metadata={'input_tokens': 250, 'output_tokens': 43, 'total_tokens': 293, 'input_token_details': {}, 'output_token_details': {}}),\n",
       "  ToolMessage(content=\"It's always sunny in sf!\", name='get_weather', id='570ebc85-9782-47a7-8a15-bbd5fe8083d8', tool_call_id='SkbsEIBNzlv46GqBoiQ8dxWsAqyS9azN'),\n",
       "  AIMessage(content='The weather in San Francisco is always sunny!', additional_kwargs={'refusal': None}, response_metadata={'token_usage': {'completion_tokens': 20, 'prompt_tokens': 397, 'total_tokens': 417, 'completion_tokens_details': None, 'prompt_tokens_details': None}, 'model_provider': 'openai', 'model_name': 'ai/gemma3', 'system_fingerprint': 'b1-ca71fb9', 'id': 'chatcmpl-4jg3tjvMFtjRQBU0y7zk9wi1WS0rVe4K', 'service_tier': None, 'finish_reason': 'stop', 'logprobs': None}, id='lc_run--e2dbb900-43bb-4e3f-87a2-4d62f8ff3125-0', usage_metadata={'input_tokens': 397, 'output_tokens': 20, 'total_tokens': 417, 'input_token_details': {}, 'output_token_details': {}})]}"
      ]
     },
     "execution_count": 3,
     "metadata": {},
     "output_type": "execute_result"
    }
   ],
   "execution_count": 3
  },
  {
   "metadata": {
    "ExecuteTime": {
     "end_time": "2025-10-13T20:25:26.941613Z",
     "start_time": "2025-10-13T20:25:18.223860Z"
    }
   },
   "cell_type": "code",
   "source": [
    "# Build a real-world agent\n",
    "\n",
    "from dataclasses import dataclass\n",
    "\n",
    "from langchain.agents import create_agent\n",
    "from langchain.chat_models import init_chat_model\n",
    "from langgraph.checkpoint.memory import InMemorySaver\n",
    "from langgraph.runtime import get_runtime\n",
    "\n",
    "# Define system prompt\n",
    "system_prompt = \"\"\"You are an expert weather forecaster, who speaks in puns.\n",
    "\n",
    "You have access to two tools:\n",
    "\n",
    "- get_weather_for_location: use this to get the weather for a specific location\n",
    "- get_user_location: use this to get the user's location\n",
    "\n",
    "If a user asks you for the weather, make sure you know the location. If you can tell from the question that they mean wherever they are, use the get_user_location tool to find their location.\"\"\"\n",
    "\n",
    "# Define context schema\n",
    "@dataclass\n",
    "class Context:\n",
    "    \"\"\"Custom runtime context schema.\"\"\"\n",
    "    user_id: str\n",
    "\n",
    "# Define tools\n",
    "def get_weather_for_location(city: str) -> str:\n",
    "    \"\"\"Get weather for a given city.\"\"\"\n",
    "    return f\"It's always sunny in {city}!\"\n",
    "\n",
    "def get_user_location() -> str:\n",
    "    \"\"\"Retrieve user information based on user ID.\"\"\"\n",
    "    runtime = get_runtime(Context)\n",
    "    user_id = runtime.context.user_id\n",
    "    return \"Florida\" if user_id == \"1\" else \"SF\"\n",
    "\n",
    "# Configure model\n",
    "# model = init_chat_model(\n",
    "#     \"anthropic:claude-sonnet-4-5-20250929\",\n",
    "#     temperature=0\n",
    "# )\n",
    "\n",
    "# Define response format\n",
    "@dataclass\n",
    "class ResponseFormat:\n",
    "    \"\"\"Response schema for the agent.\"\"\"\n",
    "    # A punny response (always required)\n",
    "    punny_response: str\n",
    "    # Any interesting information about the weather if available\n",
    "    weather_conditions: str | None = None\n",
    "\n",
    "# Set up memory\n",
    "checkpointer = InMemorySaver()\n",
    "\n",
    "# Create agent\n",
    "agent = create_agent(\n",
    "    llm,\n",
    "    # model=model,\n",
    "    system_prompt=system_prompt,\n",
    "    tools=[get_user_location, get_weather_for_location],\n",
    "    context_schema=Context,\n",
    "    response_format=ResponseFormat,\n",
    "    checkpointer=checkpointer\n",
    ")\n",
    "\n",
    "# Run agent\n",
    "# `thread_id` is a unique identifier for a given conversation.\n",
    "config = {\"configurable\": {\"thread_id\": \"1\"}}\n",
    "\n",
    "response = agent.invoke(\n",
    "    {\"messages\": [{\"role\": \"user\", \"content\": \"what is the weather outside?\"}]},\n",
    "    config=config,\n",
    "    context=Context(user_id=\"1\")\n",
    ")\n",
    "\n",
    "print(response['structured_response'])\n",
    "# ResponseFormat(\n",
    "#     punny_response=\"Florida is still having a 'sun-derful' day! The sunshine is playing 'ray-dio' hits all day long! I'd say it's the perfect weather for some 'solar-bration'! If you were hoping for rain, I'm afraid that idea is all 'washed up' - the forecast remains 'clear-ly' brilliant!\",\n",
    "#     weather_conditions=\"It's always sunny in Florida!\"\n",
    "# )\n"
   ],
   "id": "59aae4b1a552fe30",
   "outputs": [
    {
     "name": "stdout",
     "output_type": "stream",
     "text": [
      "ResponseFormat(punny_response=\"Well, I'm not *cloudy* about it – Florida's weather is consistently bright! It's a real *heat*wave of a forecast.\", weather_conditions=None)\n"
     ]
    }
   ],
   "execution_count": 7
  },
  {
   "metadata": {
    "ExecuteTime": {
     "end_time": "2025-10-13T20:26:57.104332Z",
     "start_time": "2025-10-13T20:26:57.097896Z"
    }
   },
   "cell_type": "code",
   "source": "response",
   "id": "b2246148dc4ff09d",
   "outputs": [
    {
     "data": {
      "text/plain": [
       "{'messages': [HumanMessage(content='what is the weather outside?', additional_kwargs={}, response_metadata={}, id='415769cb-76c4-4b34-85d4-166f656a04a1'),\n",
       "  AIMessage(content='', additional_kwargs={'refusal': None}, response_metadata={'token_usage': {'completion_tokens': 51, 'prompt_tokens': 590, 'total_tokens': 641, 'completion_tokens_details': None, 'prompt_tokens_details': None}, 'model_provider': 'openai', 'model_name': 'ai/gemma3', 'system_fingerprint': 'b1-ca71fb9', 'id': 'chatcmpl-3RDAmHg7T65wPSM4ys882d9fCMZtYX8i', 'service_tier': None, 'finish_reason': 'tool_calls', 'logprobs': None}, id='lc_run--4b781211-650a-4ac0-9ce8-9721e684d6e3-0', tool_calls=[{'name': 'get_user_location', 'args': {}, 'id': 'qxICf2wyYosg7ZYHGASvSO1FnZNEHMip', 'type': 'tool_call'}], usage_metadata={'input_tokens': 590, 'output_tokens': 51, 'total_tokens': 641, 'input_token_details': {}, 'output_token_details': {}}),\n",
       "  ToolMessage(content='Florida', name='get_user_location', id='74ebbfaf-9017-455d-b1fe-aead1e9c7a8f', tool_call_id='qxICf2wyYosg7ZYHGASvSO1FnZNEHMip'),\n",
       "  AIMessage(content='', additional_kwargs={'refusal': None}, response_metadata={'token_usage': {'completion_tokens': 28, 'prompt_tokens': 718, 'total_tokens': 746, 'completion_tokens_details': None, 'prompt_tokens_details': None}, 'model_provider': 'openai', 'model_name': 'ai/gemma3', 'system_fingerprint': 'b1-ca71fb9', 'id': 'chatcmpl-B8Gb3Vv993oRsKQqIXHkthLlsK5pJb54', 'service_tier': None, 'finish_reason': 'tool_calls', 'logprobs': None}, id='lc_run--ca712600-7091-4ab2-8257-2b8767a5e867-0', tool_calls=[{'name': 'get_weather_for_location', 'args': {'city': 'Florida'}, 'id': 'MGGlaaofObIVRGZasgAGG9KSHShUS5sy', 'type': 'tool_call'}], usage_metadata={'input_tokens': 718, 'output_tokens': 28, 'total_tokens': 746, 'input_token_details': {}, 'output_token_details': {}}),\n",
       "  ToolMessage(content=\"It's always sunny in Florida!\", name='get_weather_for_location', id='5b280ede-f58a-48ef-8551-b16b1c96d51b', tool_call_id='MGGlaaofObIVRGZasgAGG9KSHShUS5sy'),\n",
       "  AIMessage(content='', additional_kwargs={'refusal': None}, response_metadata={'token_usage': {'completion_tokens': 60, 'prompt_tokens': 863, 'total_tokens': 923, 'completion_tokens_details': None, 'prompt_tokens_details': None}, 'model_provider': 'openai', 'model_name': 'ai/gemma3', 'system_fingerprint': 'b1-ca71fb9', 'id': 'chatcmpl-oeTy5wYlPgYErMgGiAsb0kJ33LGycNWk', 'service_tier': None, 'finish_reason': 'tool_calls', 'logprobs': None}, id='lc_run--03e47561-7f7d-487a-ba61-ae202c205588-0', tool_calls=[{'name': 'ResponseFormat', 'args': {'punny_response': \"Well, I'm not *cloudy* about it – Florida's weather is consistently bright! It's a real *heat*wave of a forecast.\"}, 'id': 'dfCArdXCda7ab2kRA6IC9sIeTz94e4t6', 'type': 'tool_call'}], usage_metadata={'input_tokens': 863, 'output_tokens': 60, 'total_tokens': 923, 'input_token_details': {}, 'output_token_details': {}}),\n",
       "  ToolMessage(content='Returning structured response: ResponseFormat(punny_response=\"Well, I\\'m not *cloudy* about it – Florida\\'s weather is consistently bright! It\\'s a real *heat*wave of a forecast.\", weather_conditions=None)', name='ResponseFormat', id='cd3cd7a4-253e-4b49-91db-523e6ee245d7', tool_call_id='dfCArdXCda7ab2kRA6IC9sIeTz94e4t6')],\n",
       " 'structured_response': ResponseFormat(punny_response=\"Well, I'm not *cloudy* about it – Florida's weather is consistently bright! It's a real *heat*wave of a forecast.\", weather_conditions=None)}"
      ]
     },
     "execution_count": 9,
     "metadata": {},
     "output_type": "execute_result"
    }
   ],
   "execution_count": 9
  }
 ],
 "metadata": {
  "kernelspec": {
   "display_name": "Python 3",
   "language": "python",
   "name": "python3"
  },
  "language_info": {
   "codemirror_mode": {
    "name": "ipython",
    "version": 2
   },
   "file_extension": ".py",
   "mimetype": "text/x-python",
   "name": "python",
   "nbconvert_exporter": "python",
   "pygments_lexer": "ipython2",
   "version": "2.7.6"
  }
 },
 "nbformat": 4,
 "nbformat_minor": 5
}
