{
 "cells": [
  {
   "metadata": {
    "ExecuteTime": {
     "end_time": "2025-10-14T22:12:44.251809Z",
     "start_time": "2025-10-14T22:12:43.835535Z"
    }
   },
   "cell_type": "code",
   "source": [
    "# Stream graph state\n",
    "\n",
    "# Use the stream modes updates and values to stream the state of the graph as it executes.\n",
    "# updates streams the updates to the state after each step of the graph.\n",
    "# values streams the full value of the state after each step of the graph.\n",
    "\n",
    "from typing import TypedDict\n",
    "from langgraph.graph import StateGraph, START, END\n",
    "\n",
    "\n",
    "class State(TypedDict):\n",
    "  topic: str\n",
    "  joke: str\n",
    "\n",
    "\n",
    "def refine_topic(state: State):\n",
    "    return {\"topic\": state[\"topic\"] + \" and cats\"}\n",
    "\n",
    "\n",
    "def generate_joke(state: State):\n",
    "    return {\"joke\": f\"This is a joke about {state['topic']}\"}\n",
    "\n",
    "graph = (\n",
    "  StateGraph(State)\n",
    "  .add_node(refine_topic)\n",
    "  .add_node(generate_joke)\n",
    "  .add_edge(START, \"refine_topic\")\n",
    "  .add_edge(\"refine_topic\", \"generate_joke\")\n",
    "  .add_edge(\"generate_joke\", END)\n",
    "  .compile()\n",
    ")\n",
    "\n",
    "from IPython.display import Image, display\n",
    "# Show workflow\n",
    "display(Image(graph.get_graph().draw_mermaid_png()))\n",
    "\n",
    "for chunk in graph.stream(\n",
    "    {\"topic\": \"ice cream\"},\n",
    "    stream_mode=\"updates\",\n",
    "):\n",
    "    print(chunk)"
   ],
   "id": "8bd8e2210935f178",
   "outputs": [
    {
     "data": {
      "image/png": "[encoded data removed]",
      "text/plain": [
       "<IPython.core.display.Image object>"
      ]
     },
     "metadata": {},
     "output_type": "display_data"
    },
    {
     "name": "stdout",
     "output_type": "stream",
     "text": [
      "{'refine_topic': {'topic': 'ice cream and cats'}}\n",
      "{'generate_joke': {'joke': 'This is a joke about ice cream and cats'}}\n"
     ]
    }
   ],
   "execution_count": 4
  },
  {
   "metadata": {
    "ExecuteTime": {
     "end_time": "2025-10-14T22:13:21.533538Z",
     "start_time": "2025-10-14T22:13:21.525629Z"
    }
   },
   "cell_type": "code",
   "source": [
    "for chunk in graph.stream(\n",
    "    {\"topic\": \"ice cream\"},\n",
    "    stream_mode=\"values\",\n",
    "):\n",
    "    print(chunk)"
   ],
   "id": "7e468992b1c0782f",
   "outputs": [
    {
     "name": "stdout",
     "output_type": "stream",
     "text": [
      "{'topic': 'ice cream'}\n",
      "{'topic': 'ice cream and cats'}\n",
      "{'topic': 'ice cream and cats', 'joke': 'This is a joke about ice cream and cats'}\n"
     ]
    }
   ],
   "execution_count": 5
  },
  {
   "metadata": {
    "ExecuteTime": {
     "end_time": "2025-10-14T22:16:11.825330Z",
     "start_time": "2025-10-14T22:16:11.380845Z"
    }
   },
   "cell_type": "code",
   "source": [
    "# Stream subgraph outputs\n",
    "from langgraph.graph import START, StateGraph\n",
    "from typing import TypedDict\n",
    "\n",
    "# Define subgraph\n",
    "class SubgraphState(TypedDict):\n",
    "    foo: str  # note that this key is shared with the parent graph state\n",
    "    bar: str\n",
    "\n",
    "def subgraph_node_1(state: SubgraphState):\n",
    "    return {\"bar\": \"bar\"}\n",
    "\n",
    "def subgraph_node_2(state: SubgraphState):\n",
    "    return {\"foo\": state[\"foo\"] + state[\"bar\"]}\n",
    "\n",
    "subgraph_builder = StateGraph(SubgraphState)\n",
    "subgraph_builder.add_node(subgraph_node_1)\n",
    "subgraph_builder.add_node(subgraph_node_2)\n",
    "subgraph_builder.add_edge(START, \"subgraph_node_1\")\n",
    "subgraph_builder.add_edge(\"subgraph_node_1\", \"subgraph_node_2\")\n",
    "subgraph = subgraph_builder.compile()\n",
    "\n",
    "# Define parent graph\n",
    "class ParentState(TypedDict):\n",
    "    foo: str\n",
    "\n",
    "def node_1(state: ParentState):\n",
    "    return {\"foo\": \"hi! \" + state[\"foo\"]}\n",
    "\n",
    "builder = StateGraph(ParentState)\n",
    "builder.add_node(\"node_1\", node_1)\n",
    "builder.add_node(\"node_2\", subgraph)\n",
    "builder.add_edge(START, \"node_1\")\n",
    "builder.add_edge(\"node_1\", \"node_2\")\n",
    "graph = builder.compile()\n",
    "\n",
    "from IPython.display import Image, display\n",
    "# Show workflow\n",
    "display(Image(graph.get_graph().draw_mermaid_png()))\n",
    "\n",
    "for chunk in graph.stream(\n",
    "    {\"foo\": \"foo\"},\n",
    "    stream_mode=\"updates\",\n",
    "    # Set subgraphs=True to stream outputs from subgraphs\n",
    "    subgraphs=True,\n",
    "):\n",
    "    print(chunk)"
   ],
   "id": "b44fcf542dbccf9d",
   "outputs": [
    {
     "data": {
      "image/png": "[encoded data removed]",
      "text/plain": [
       "<IPython.core.display.Image object>"
      ]
     },
     "metadata": {},
     "output_type": "display_data"
    },
    {
     "name": "stdout",
     "output_type": "stream",
     "text": [
      "((), {'node_1': {'foo': 'hi! foo'}})\n",
      "(('node_2:e0af1f22-283c-0218-6278-1e88cf8c1b8d',), {'subgraph_node_1': {'bar': 'bar'}})\n",
      "(('node_2:e0af1f22-283c-0218-6278-1e88cf8c1b8d',), {'subgraph_node_2': {'foo': 'hi! foobar'}})\n",
      "((), {'node_2': {'foo': 'hi! foobar'}})\n"
     ]
    }
   ],
   "execution_count": 7
  },
  {
   "metadata": {
    "ExecuteTime": {
     "end_time": "2025-10-14T22:19:31.271173Z",
     "start_time": "2025-10-14T22:19:26.849277Z"
    }
   },
   "cell_type": "code",
   "source": [
    "# LLM Tokens\n",
    "from dataclasses import dataclass\n",
    "\n",
    "from langchain.chat_models import init_chat_model\n",
    "from langgraph.graph import StateGraph, START\n",
    "\n",
    "from langchain_openai import ChatOpenAI\n",
    "\n",
    "llm = ChatOpenAI(\n",
    "    base_url=\"http://localhost:12434/engines/v1\", #\"http://localhost:12434/engines/llama.cpp/v1/\"\n",
    "    api_key=\"docker\",\n",
    "    temperature=0,\n",
    "    model=\"ai/gemma3\",  # ai/llama3.2\n",
    "    stream_usage=True\n",
    ")\n",
    "\n",
    "@dataclass\n",
    "class MyState:\n",
    "    topic: str\n",
    "    joke: str = \"\"\n",
    "\n",
    "\n",
    "# llm = init_chat_model(model=model)\n",
    "\n",
    "def call_model(state: MyState):\n",
    "    \"\"\"Call the LLM to generate a joke about a topic\"\"\"\n",
    "    # Note that message events are emitted even when the LLM is run using .invoke rather than .stream\n",
    "    llm_response = llm.invoke(\n",
    "        [\n",
    "            {\"role\": \"user\", \"content\": f\"Generate a joke about {state.topic}\"}\n",
    "        ]\n",
    "    )\n",
    "    return {\"joke\": llm_response.content}\n",
    "\n",
    "graph = (\n",
    "    StateGraph(MyState)\n",
    "    .add_node(call_model)\n",
    "    .add_edge(START, \"call_model\")\n",
    "    .compile()\n",
    ")\n",
    "\n",
    "# The \"messages\" stream mode returns an iterator of tuples (message_chunk, metadata)\n",
    "# where message_chunk is the token streamed by the LLM and metadata is a dictionary\n",
    "# with information about the graph node where the LLM was called and other information\n",
    "for message_chunk, metadata in graph.stream(\n",
    "    {\"topic\": \"ice cream\"},\n",
    "    stream_mode=\"messages\",\n",
    "):\n",
    "    if message_chunk.content:\n",
    "        print(message_chunk.content, end=\"|\", flush=True)"
   ],
   "id": "41b5c06cdbbdde1f",
   "outputs": [
    {
     "name": "stdout",
     "output_type": "stream",
     "text": [
      "Why| did| the| ice| cream| go| to| therapy|?| |\n",
      "\n",
      "|Because| it| had| too| many| scoops| of| sadness|!| 😄| |\n",
      "\n",
      "|---|\n",
      "\n",
      "|Would| you| like| to| hear| another| joke|?|"
     ]
    }
   ],
   "execution_count": 9
  },
  {
   "metadata": {
    "ExecuteTime": {
     "end_time": "2025-10-14T22:24:06.944529Z",
     "start_time": "2025-10-14T22:23:43.104414Z"
    }
   },
   "cell_type": "code",
   "source": [
    "# Filter by tags\n",
    "from typing import TypedDict\n",
    "\n",
    "from langchain.chat_models import init_chat_model\n",
    "from langgraph.graph import START, StateGraph\n",
    "\n",
    "# The joke_model is tagged with \"joke\"\n",
    "joke_model = init_chat_model(\n",
    "    model=\"ai/phi4\",\n",
    "    model_provider=\"openai\",\n",
    "    base_url=\"http://localhost:12434/engines/v1\",\n",
    "    api_key=\"docker\", tags=[\"joke\"])\n",
    "# The poem_model is tagged with \"poem\"\n",
    "poem_model = init_chat_model(\n",
    "    model=\"ai/phi4\",\n",
    "    model_provider=\"openai\",\n",
    "    base_url=\"http://localhost:12434/engines/v1\",\n",
    "    api_key=\"docker\", tags=[\"poem\"])\n",
    "\n",
    "\n",
    "class State(TypedDict):\n",
    "      topic: str\n",
    "      joke: str\n",
    "      poem: str\n",
    "\n",
    "\n",
    "async def call_model(state, config):\n",
    "      topic = state[\"topic\"]\n",
    "      print(\"Writing joke...\")\n",
    "      # Note: Passing the config through explicitly is required for python < 3.11\n",
    "      # Since context var support wasn't added before then: https://docs.python.org/3/library/asyncio-task.html#creating-tasks\n",
    "      # The config is passed through explicitly to ensure the context vars are propagated correctly\n",
    "      # This is required for Python < 3.11 when using async code. Please see the async section for more details\n",
    "      joke_response = await joke_model.ainvoke(\n",
    "            [{\"role\": \"user\", \"content\": f\"Write a joke about {topic}\"}],\n",
    "            config,\n",
    "      )\n",
    "      print(\"\\n\\nWriting poem...\")\n",
    "      poem_response = await poem_model.ainvoke(\n",
    "            [{\"role\": \"user\", \"content\": f\"Write a short poem about {topic}\"}],\n",
    "            config,\n",
    "      )\n",
    "      return {\"joke\": joke_response.content, \"poem\": poem_response.content}\n",
    "\n",
    "\n",
    "graph = (\n",
    "      StateGraph(State)\n",
    "      .add_node(call_model)\n",
    "      .add_edge(START, \"call_model\")\n",
    "      .compile()\n",
    ")\n",
    "\n",
    "# The stream_mode is set to \"messages\" to stream LLM tokens\n",
    "# The metadata contains information about the LLM invocation, including the tags\n",
    "async for msg, metadata in graph.astream(\n",
    "      {\"topic\": \"cats\"},\n",
    "      stream_mode=\"messages\",\n",
    "):\n",
    "    if metadata[\"tags\"] == [\"joke\"]:\n",
    "        print(msg.content, end=\"|\", flush=True)"
   ],
   "id": "af93f2c41fd78f6d",
   "outputs": [
    {
     "name": "stdout",
     "output_type": "stream",
     "text": [
      "Writing joke...\n",
      "|Why| don|'t| cats| play| poker| in| the| jungle|?\n",
      "\n",
      "|Cat|itude|!||\n",
      "\n",
      "Writing poem...\n"
     ]
    }
   ],
   "execution_count": 13
  },
  {
   "metadata": {
    "ExecuteTime": {
     "end_time": "2025-10-13T14:03:08.456577Z",
     "start_time": "2025-10-13T14:03:08.448646Z"
    }
   },
   "cell_type": "code",
   "source": [
    "# Streaming\n",
    "from typing import TypedDict\n",
    "from langgraph.graph import StateGraph, START, END\n",
    "\n",
    "class State(TypedDict):\n",
    "    topic: str\n",
    "    joke: str\n",
    "\n",
    "def refine_topic(state: State):\n",
    "    return {\"topic\": state[\"topic\"] + \" and cats\"}\n",
    "\n",
    "def generate_joke(state: State):\n",
    "    return {\"joke\": f\"This is a joke about {state['topic']}\"}\n",
    "\n",
    "graph = (\n",
    "    StateGraph(State)\n",
    "    .add_node(refine_topic)\n",
    "    .add_node(generate_joke)\n",
    "    .add_edge(START, \"refine_topic\")\n",
    "    .add_edge(\"refine_topic\", \"generate_joke\")\n",
    "    .add_edge(\"generate_joke\", END)\n",
    "    .compile()\n",
    ")\n",
    "\n",
    "# The stream() method returns an iterator that yields streamed outputs\n",
    "for chunk in graph.stream(\n",
    "    {\"topic\": \"ice cream\"},\n",
    "    # Set stream_mode=\"updates\" to stream only the updates to the graph state after each node\n",
    "    # Other stream modes are also available. See supported stream modes for details\n",
    "    stream_mode=\"updates\",\n",
    "):\n",
    "    print(chunk)"
   ],
   "id": "3fc2b073c583ebe",
   "outputs": [
    {
     "name": "stdout",
     "output_type": "stream",
     "text": [
      "{'refine_topic': {'topic': 'ice cream and cats'}}\n",
      "{'generate_joke': {'joke': 'This is a joke about ice cream and cats'}}\n"
     ]
    }
   ],
   "execution_count": 4
  },
  {
   "metadata": {
    "ExecuteTime": {
     "end_time": "2025-10-14T22:25:30.989950Z",
     "start_time": "2025-10-14T22:25:23.576911Z"
    }
   },
   "cell_type": "code",
   "source": [
    "# Filter by node\n",
    "from typing import TypedDict\n",
    "from langgraph.graph import START, StateGraph\n",
    "# from langchain_openai import ChatOpenAI\n",
    "\n",
    "# model = ChatOpenAI(model=\"gpt-4o-mini\")\n",
    "\n",
    "\n",
    "class State(TypedDict):\n",
    "      topic: str\n",
    "      joke: str\n",
    "      poem: str\n",
    "\n",
    "\n",
    "def write_joke(state: State):\n",
    "      topic = state[\"topic\"]\n",
    "      joke_response = model.invoke(\n",
    "            [{\"role\": \"user\", \"content\": f\"Write a joke about {topic}\"}]\n",
    "      )\n",
    "      return {\"joke\": joke_response.content}\n",
    "\n",
    "\n",
    "def write_poem(state: State):\n",
    "      topic = state[\"topic\"]\n",
    "      poem_response = model.invoke(\n",
    "            [{\"role\": \"user\", \"content\": f\"Write a short poem about {topic}\"}]\n",
    "      )\n",
    "      return {\"poem\": poem_response.content}\n",
    "\n",
    "\n",
    "graph = (\n",
    "      StateGraph(State)\n",
    "      .add_node(write_joke)\n",
    "      .add_node(write_poem)\n",
    "      # write both the joke and the poem concurrently\n",
    "      .add_edge(START, \"write_joke\")\n",
    "      .add_edge(START, \"write_poem\")\n",
    "      .compile()\n",
    ")\n",
    "\n",
    "# The \"messages\" stream mode returns a tuple of (message_chunk, metadata)\n",
    "# where message_chunk is the token streamed by the LLM and metadata is a dictionary\n",
    "# with information about the graph node where the LLM was called and other information\n",
    "for msg, metadata in graph.stream(\n",
    "    {\"topic\": \"cats\"},\n",
    "    stream_mode=\"messages\",\n",
    "):\n",
    "    # Filter the streamed tokens by the langgraph_node field in the metadata\n",
    "    # to only include the tokens from the write_poem node\n",
    "    if msg.content and metadata[\"langgraph_node\"] == \"write_poem\":\n",
    "        print(msg.content, end=\"|\", flush=True)"
   ],
   "id": "fe516cbdd30a23bb",
   "outputs": [
    {
     "name": "stdout",
     "output_type": "stream",
     "text": [
      "With| velvet| paws| and| eyes| of| gold|,|\n",
      "|A| silent| hunter|,| stories| told|.|\n",
      "|A| pur|ring| rumble|,| soft| and| deep|,|\n",
      "|Lost| in| a| sun|beam|,| fast| asleep|.|\n",
      "\n",
      "|A| graceful| stretch|,| a| playful| leap|,|\n",
      "|Secrets| held| in| slumber| deep|.|\n",
      "|Independent|,| wild|,| and| free|,|\n",
      "|A| feline| mystery|,| you| see|.|"
     ]
    }
   ],
   "execution_count": 14
  },
  {
   "metadata": {
    "ExecuteTime": {
     "end_time": "2025-10-14T22:26:12.794338Z",
     "start_time": "2025-10-14T22:26:12.787938Z"
    }
   },
   "cell_type": "code",
   "source": [
    "# Stream custom data\n",
    "# node\n",
    "\n",
    "from typing import TypedDict\n",
    "from langgraph.config import get_stream_writer\n",
    "from langgraph.graph import StateGraph, START\n",
    "\n",
    "class State(TypedDict):\n",
    "    query: str\n",
    "    answer: str\n",
    "\n",
    "def node(state: State):\n",
    "    # Get the stream writer to send custom data\n",
    "    writer = get_stream_writer()\n",
    "    # Emit a custom key-value pair (e.g., progress update)\n",
    "    writer({\"custom_key\": \"Generating custom data inside node\"})\n",
    "    return {\"answer\": \"some data\"}\n",
    "\n",
    "graph = (\n",
    "    StateGraph(State)\n",
    "    .add_node(node)\n",
    "    .add_edge(START, \"node\")\n",
    "    .compile()\n",
    ")\n",
    "\n",
    "inputs = {\"query\": \"example\"}\n",
    "\n",
    "# Set stream_mode=\"custom\" to receive the custom data in the stream\n",
    "for chunk in graph.stream(inputs, stream_mode=\"custom\"):\n",
    "    print(chunk)"
   ],
   "id": "53ac332e998b0397",
   "outputs": [
    {
     "name": "stdout",
     "output_type": "stream",
     "text": [
      "{'custom_key': 'Generating custom data inside node'}\n"
     ]
    }
   ],
   "execution_count": 15
  },
  {
   "metadata": {},
   "cell_type": "code",
   "outputs": [],
   "execution_count": null,
   "source": [
    "# Use with any LLM\n",
    "from langgraph.config import get_stream_writer\n",
    "\n",
    "def call_arbitrary_model(state):\n",
    "    \"\"\"Example node that calls an arbitrary model and streams the output\"\"\"\n",
    "    # Get the stream writer to send custom data\n",
    "    writer = get_stream_writer()\n",
    "    # Assume you have a streaming client that yields chunks\n",
    "    # Generate LLM tokens using your custom streaming client\n",
    "    for chunk in your_custom_streaming_client(state[\"topic\"]):\n",
    "        # Use the writer to send custom data to the stream\n",
    "        writer({\"custom_llm_chunk\": chunk})\n",
    "    return {\"result\": \"completed\"}\n",
    "\n",
    "graph = (\n",
    "    StateGraph(State)\n",
    "    .add_node(call_arbitrary_model)\n",
    "    # Add other nodes and edges as needed\n",
    "    .compile()\n",
    ")\n",
    "# Set stream_mode=\"custom\" to receive the custom data in the stream\n",
    "for chunk in graph.stream(\n",
    "    {\"topic\": \"cats\"},\n",
    "    stream_mode=\"custom\",\n",
    "\n",
    "):\n",
    "    # The chunk will contain the custom data streamed from the llm\n",
    "    print(chunk)"
   ],
   "id": "4e5d4b087a6bc9c1"
  },
  {
   "metadata": {
    "ExecuteTime": {
     "end_time": "2025-10-14T22:28:24.097133Z",
     "start_time": "2025-10-14T22:28:24.056016Z"
    }
   },
   "cell_type": "code",
   "source": [
    "# Streaming arbitrary model\n",
    "import operator\n",
    "import json\n",
    "\n",
    "from typing import TypedDict\n",
    "from typing_extensions import Annotated\n",
    "from langgraph.graph import StateGraph, START\n",
    "\n",
    "from openai import AsyncOpenAI\n",
    "\n",
    "openai_client = AsyncOpenAI(\n",
    "    api_key=\"docker\",\n",
    "    base_url=\"http://localhost:12434/engines/v1\",\n",
    ")\n",
    "model_name = \"ai/gemma3\"\n",
    "\n",
    "\n",
    "async def stream_tokens(model_name: str, messages: list[dict]):\n",
    "    response = await openai_client.chat.completions.create(\n",
    "        messages=messages, model=model_name, stream=True\n",
    "    )\n",
    "    role = None\n",
    "    async for chunk in response:\n",
    "        delta = chunk.choices[0].delta\n",
    "\n",
    "        if delta.role is not None:\n",
    "            role = delta.role\n",
    "\n",
    "        if delta.content:\n",
    "            yield {\"role\": role, \"content\": delta.content}\n",
    "\n",
    "\n",
    "# this is our tool\n",
    "async def get_items(place: str) -> str:\n",
    "    \"\"\"Use this tool to list items one might find in a place you're asked about.\"\"\"\n",
    "    writer = get_stream_writer()\n",
    "    response = \"\"\n",
    "    async for msg_chunk in stream_tokens(\n",
    "        model_name,\n",
    "        [\n",
    "            {\n",
    "                \"role\": \"user\",\n",
    "                \"content\": (\n",
    "                    \"Can you tell me what kind of items \"\n",
    "                    f\"i might find in the following place: '{place}'. \"\n",
    "                    \"List at least 3 such items separating them by a comma. \"\n",
    "                    \"And include a brief description of each item.\"\n",
    "                ),\n",
    "            }\n",
    "        ],\n",
    "    ):\n",
    "        response += msg_chunk[\"content\"]\n",
    "        writer(msg_chunk)\n",
    "\n",
    "    return response\n",
    "\n",
    "\n",
    "class State(TypedDict):\n",
    "    messages: Annotated[list[dict], operator.add]\n",
    "\n",
    "\n",
    "# this is the tool-calling graph node\n",
    "async def call_tool(state: State):\n",
    "    ai_message = state[\"messages\"][-1]\n",
    "    tool_call = ai_message[\"tool_calls\"][-1]\n",
    "\n",
    "    function_name = tool_call[\"function\"][\"name\"]\n",
    "    if function_name != \"get_items\":\n",
    "        raise ValueError(f\"Tool {function_name} not supported\")\n",
    "\n",
    "    function_arguments = tool_call[\"function\"][\"arguments\"]\n",
    "    arguments = json.loads(function_arguments)\n",
    "\n",
    "    function_response = await get_items(**arguments)\n",
    "    tool_message = {\n",
    "        \"tool_call_id\": tool_call[\"id\"],\n",
    "        \"role\": \"tool\",\n",
    "        \"name\": function_name,\n",
    "        \"content\": function_response,\n",
    "    }\n",
    "    return {\"messages\": [tool_message]}\n",
    "\n",
    "\n",
    "graph = (\n",
    "    StateGraph(State)\n",
    "    .add_node(call_tool)\n",
    "    .add_edge(START, \"call_tool\")\n",
    "    .compile()\n",
    ")"
   ],
   "id": "67366e01bae9ddd9",
   "outputs": [],
   "execution_count": 16
  },
  {
   "metadata": {
    "ExecuteTime": {
     "end_time": "2025-10-14T22:28:43.077022Z",
     "start_time": "2025-10-14T22:28:39.290538Z"
    }
   },
   "cell_type": "code",
   "source": [
    "inputs = {\n",
    "    \"messages\": [\n",
    "        {\n",
    "            \"content\": None,\n",
    "            \"role\": \"assistant\",\n",
    "            \"tool_calls\": [\n",
    "                {\n",
    "                    \"id\": \"1\",\n",
    "                    \"function\": {\n",
    "                        \"arguments\": '{\"place\":\"bedroom\"}',\n",
    "                        \"name\": \"get_items\",\n",
    "                    },\n",
    "                    \"type\": \"function\",\n",
    "                }\n",
    "            ],\n",
    "        }\n",
    "    ]\n",
    "}\n",
    "\n",
    "async for chunk in graph.astream(\n",
    "    inputs,\n",
    "    stream_mode=\"custom\",\n",
    "):\n",
    "    print(chunk[\"content\"], end=\"|\", flush=True)"
   ],
   "id": "f2aa612c511c8192",
   "outputs": [
    {
     "name": "stdout",
     "output_type": "stream",
     "text": [
      "Okay|,| here| are| at| least| |3| items| you| might| find| in| a| bedroom|,| with| a| brief| description| of| each|:|\n",
      "\n",
      "|Bed|,| a| large| piece| of| furniture| designed| for| sleeping|,| typically| with| a| mattress| and| bedding|.|\n",
      "|Night|stand|,| a| small| table| placed| beside| a| bed| for| holding| a| lamp|,| books|,| or| personal| items|.|\n",
      "|D|resser|,| a| piece| of| furniture| with| drawers| used| for| storing| clothes|.|\n",
      "\n",
      "|Would| you| like| me| to| list| more| items|,| or| perhaps| focus| on| a| specific| type| of| bedroom| (|e|.|g|.,| a| child|’|s| bedroom|,| a| master| bedroom|)?|"
     ]
    }
   ],
   "execution_count": 17
  }
 ],
 "metadata": {
  "kernelspec": {
   "name": "python3",
   "language": "python",
   "display_name": "Python 3 (ipykernel)"
  }
 },
 "nbformat": 4,
 "nbformat_minor": 5
}
