{
 "cells": [
  {
   "metadata": {
    "ExecuteTime": {
     "end_time": "2025-10-14T22:06:31.015494Z",
     "start_time": "2025-10-14T22:06:31.011645Z"
    }
   },
   "cell_type": "code",
   "source": [
    "from langchain_openai import ChatOpenAI\n",
    "\n",
    "model = ChatOpenAI(\n",
    "    base_url=\"http://localhost:12434/engines/v1\",\n",
    "    api_key=\"docker\",\n",
    "    temperature=0,\n",
    "    model=\"ai/phi4\"\n",
    ")\n"
   ],
   "id": "5745051aeb335b8c",
   "outputs": [],
   "execution_count": 3
  },
  {
   "metadata": {
    "ExecuteTime": {
     "end_time": "2025-10-14T22:06:49.288351Z",
     "start_time": "2025-10-14T22:06:32.787561Z"
    }
   },
   "cell_type": "code",
   "source": [
    "# Agent progress\n",
    "\n",
    "from langchain.agents import create_agent\n",
    "\n",
    "def get_weather(city: str) -> str:\n",
    "    \"\"\"Get weather for a given city.\"\"\"\n",
    "\n",
    "    return f\"It's always sunny in {city}!\"\n",
    "\n",
    "agent = create_agent(\n",
    "    model=model,\n",
    "    tools=[get_weather],\n",
    ")\n",
    "for chunk in agent.stream(\n",
    "    {\"messages\": [{\"role\": \"user\", \"content\": \"What is the weather in SF?\"}]},\n",
    "    stream_mode=\"updates\",\n",
    "):\n",
    "    for step, data in chunk.items():\n",
    "        print(f\"step: {step}\")\n",
    "        print(f\"content: {data['messages'][-1].content_blocks}\")"
   ],
   "id": "f9cb22b9d013fab1",
   "outputs": [
    {
     "name": "stdout",
     "output_type": "stream",
     "text": [
      "step: model\n",
      "content: [{'type': 'tool_call', 'name': 'get_weather', 'args': {'city': 'SF'}, 'id': '3wmVZkNiWRL46hWeLt3RIO3NBrlY3WnM'}]\n",
      "step: tools\n",
      "content: [{'type': 'text', 'text': \"It's always sunny in SF!\"}]\n",
      "step: model\n",
      "content: [{'type': 'text', 'text': 'The weather in SF is sunny!'}]\n"
     ]
    }
   ],
   "execution_count": 4
  },
  {
   "metadata": {
    "ExecuteTime": {
     "end_time": "2025-10-14T22:07:21.457191Z",
     "start_time": "2025-10-14T22:07:15.006364Z"
    }
   },
   "cell_type": "code",
   "source": [
    "# LLM Tokens\n",
    "\n",
    "from langchain.agents import create_agent\n",
    "\n",
    "def get_weather(city: str) -> str:\n",
    "    \"\"\"Get weather for a given city.\"\"\"\n",
    "\n",
    "    return f\"It's always sunny in {city}!\"\n",
    "\n",
    "agent = create_agent(\n",
    "    model=model,\n",
    "    tools=[get_weather],\n",
    ")\n",
    "for token, metadata in agent.stream(\n",
    "    {\"messages\": [{\"role\": \"user\", \"content\": \"What is the weather in SF?\"}]},\n",
    "    stream_mode=\"messages\",\n",
    "):\n",
    "    print(f\"node: {metadata['langgraph_node']}\")\n",
    "    print(f\"content: {token.content_blocks}\")\n",
    "    print(\"\\n\")"
   ],
   "id": "e90f506b75a4d39a",
   "outputs": [
    {
     "name": "stdout",
     "output_type": "stream",
     "text": [
      "node: model\n",
      "content: []\n",
      "\n",
      "\n",
      "node: model\n",
      "content: [{'type': 'tool_call_chunk', 'id': 'uoxJ3fYntU5vjShjP3NYKizeEDQ9ItrZ', 'name': 'get_weather', 'args': '', 'index': 0}]\n",
      "\n",
      "\n",
      "node: model\n",
      "content: [{'type': 'tool_call_chunk', 'id': None, 'name': None, 'args': '{', 'index': 0}]\n",
      "\n",
      "\n",
      "node: model\n",
      "content: [{'type': 'tool_call_chunk', 'id': None, 'name': None, 'args': '\"', 'index': 0}]\n",
      "\n",
      "\n",
      "node: model\n",
      "content: [{'type': 'tool_call_chunk', 'id': None, 'name': None, 'args': 'city', 'index': 0}]\n",
      "\n",
      "\n",
      "node: model\n",
      "content: [{'type': 'tool_call_chunk', 'id': None, 'name': None, 'args': '\":', 'index': 0}]\n",
      "\n",
      "\n",
      "node: model\n",
      "content: [{'type': 'tool_call_chunk', 'id': None, 'name': None, 'args': '\"', 'index': 0}]\n",
      "\n",
      "\n",
      "node: model\n",
      "content: [{'type': 'tool_call_chunk', 'id': None, 'name': None, 'args': 'SF', 'index': 0}]\n",
      "\n",
      "\n",
      "node: model\n",
      "content: [{'type': 'tool_call_chunk', 'id': None, 'name': None, 'args': '\"', 'index': 0}]\n",
      "\n",
      "\n",
      "node: model\n",
      "content: [{'type': 'tool_call_chunk', 'id': None, 'name': None, 'args': '}', 'index': 0}]\n",
      "\n",
      "\n",
      "node: model\n",
      "content: []\n",
      "\n",
      "\n",
      "node: tools\n",
      "content: [{'type': 'text', 'text': \"It's always sunny in SF!\"}]\n",
      "\n",
      "\n",
      "node: model\n",
      "content: []\n",
      "\n",
      "\n",
      "node: model\n",
      "content: [{'type': 'text', 'text': 'The'}]\n",
      "\n",
      "\n",
      "node: model\n",
      "content: [{'type': 'text', 'text': ' weather'}]\n",
      "\n",
      "\n",
      "node: model\n",
      "content: [{'type': 'text', 'text': ' in'}]\n",
      "\n",
      "\n",
      "node: model\n",
      "content: [{'type': 'text', 'text': ' San'}]\n",
      "\n",
      "\n",
      "node: model\n",
      "content: [{'type': 'text', 'text': ' Francisco'}]\n",
      "\n",
      "\n",
      "node: model\n",
      "content: [{'type': 'text', 'text': ' is'}]\n",
      "\n",
      "\n",
      "node: model\n",
      "content: [{'type': 'text', 'text': ' currently'}]\n",
      "\n",
      "\n",
      "node: model\n",
      "content: [{'type': 'text', 'text': ' sunny'}]\n",
      "\n",
      "\n",
      "node: model\n",
      "content: [{'type': 'text', 'text': '.'}]\n",
      "\n",
      "\n",
      "node: model\n",
      "content: [{'type': 'text', 'text': ' Enjoy'}]\n",
      "\n",
      "\n",
      "node: model\n",
      "content: [{'type': 'text', 'text': ' the'}]\n",
      "\n",
      "\n",
      "node: model\n",
      "content: [{'type': 'text', 'text': ' pleasant'}]\n",
      "\n",
      "\n",
      "node: model\n",
      "content: [{'type': 'text', 'text': ' weather'}]\n",
      "\n",
      "\n",
      "node: model\n",
      "content: [{'type': 'text', 'text': '!'}]\n",
      "\n",
      "\n",
      "node: model\n",
      "content: []\n",
      "\n",
      "\n"
     ]
    }
   ],
   "execution_count": 6
  },
  {
   "metadata": {
    "ExecuteTime": {
     "end_time": "2025-10-14T22:08:09.436506Z",
     "start_time": "2025-10-14T22:08:03.524916Z"
    }
   },
   "cell_type": "code",
   "source": [
    "# Custom updates\n",
    "# To stream updates from tools as they are executed, you can use get_stream_writer.\n",
    "\n",
    "from langchain.agents import create_agent\n",
    "from langgraph.config import get_stream_writer\n",
    "\n",
    "def get_weather(city: str) -> str:\n",
    "    \"\"\"Get weather for a given city.\"\"\"\n",
    "    writer = get_stream_writer()\n",
    "    # stream any arbitrary data\n",
    "    writer(f\"Looking up data for city: {city}\")\n",
    "    writer(f\"Acquired data for city: {city}\")\n",
    "    return f\"It's always sunny in {city}!\"\n",
    "\n",
    "agent = create_agent(\n",
    "    model=model,\n",
    "    tools=[get_weather],\n",
    ")\n",
    "\n",
    "for chunk in agent.stream(\n",
    "    {\"messages\": [{\"role\": \"user\", \"content\": \"What is the weather in SF?\"}]},\n",
    "    stream_mode=\"custom\"\n",
    "):\n",
    "    print(chunk)"
   ],
   "id": "446655d599fcdc58",
   "outputs": [
    {
     "name": "stdout",
     "output_type": "stream",
     "text": [
      "Looking up data for city: SF\n",
      "Acquired data for city: SF\n"
     ]
    }
   ],
   "execution_count": 7
  },
  {
   "metadata": {
    "ExecuteTime": {
     "end_time": "2025-10-14T22:08:58.731059Z",
     "start_time": "2025-10-14T22:08:52.799524Z"
    }
   },
   "cell_type": "code",
   "source": [
    "# Stream multiple modes\n",
    "# You can specify multiple streaming modes by passing stream mode as a list: stream_mode=[\"updates\", \"custom\"]\n",
    "\n",
    "from langchain.agents import create_agent\n",
    "from langgraph.config import get_stream_writer\n",
    "\n",
    "def get_weather(city: str) -> str:\n",
    "    \"\"\"Get weather for a given city.\"\"\"\n",
    "    writer = get_stream_writer()\n",
    "    writer(f\"Looking up data for city: {city}\")\n",
    "    writer(f\"Acquired data for city: {city}\")\n",
    "    return f\"It's always sunny in {city}!\"\n",
    "\n",
    "agent = create_agent(\n",
    "    model=model,\n",
    "    tools=[get_weather],\n",
    ")\n",
    "\n",
    "for stream_mode, chunk in agent.stream(\n",
    "    {\"messages\": [{\"role\": \"user\", \"content\": \"What is the weather in SF?\"}]},\n",
    "    stream_mode=[\"updates\", \"custom\"]\n",
    "):\n",
    "    print(f\"stream_mode: {stream_mode}\")\n",
    "    print(f\"content: {chunk}\")\n",
    "    print(\"\\n\")"
   ],
   "id": "e242ad1a1082daad",
   "outputs": [
    {
     "name": "stdout",
     "output_type": "stream",
     "text": [
      "stream_mode: updates\n",
      "content: {'model': {'thread_model_call_count': 1, 'run_model_call_count': 1, 'messages': [AIMessage(content='', additional_kwargs={'refusal': None}, response_metadata={'token_usage': {'completion_tokens': 33, 'prompt_tokens': 204, 'total_tokens': 237, 'completion_tokens_details': None, 'prompt_tokens_details': None}, 'model_provider': 'openai', 'model_name': 'ai/phi4', 'system_fingerprint': 'b1-ca71fb9', 'id': 'chatcmpl-WkDVCsekTo6g6uQaaQOkO4PhB6DH0Rsr', 'service_tier': None, 'finish_reason': 'tool_calls', 'logprobs': None}, id='lc_run--d46504ef-77f8-4fa9-9112-19155509324a-0', tool_calls=[{'name': 'get_weather', 'args': {'city': 'SF'}, 'id': 'DeFGMooc4izT81JtsO1BEWVB3zIhV20j', 'type': 'tool_call'}], usage_metadata={'input_tokens': 204, 'output_tokens': 33, 'total_tokens': 237, 'input_token_details': {}, 'output_token_details': {}})]}}\n",
      "\n",
      "\n",
      "stream_mode: custom\n",
      "content: Looking up data for city: SF\n",
      "\n",
      "\n",
      "stream_mode: custom\n",
      "content: Acquired data for city: SF\n",
      "\n",
      "\n",
      "stream_mode: updates\n",
      "content: {'tools': {'messages': [ToolMessage(content=\"It's always sunny in SF!\", name='get_weather', id='1ff0cc21-2186-4522-ac79-49652f90125b', tool_call_id='DeFGMooc4izT81JtsO1BEWVB3zIhV20j')]}}\n",
      "\n",
      "\n",
      "stream_mode: updates\n",
      "content: {'model': {'thread_model_call_count': 2, 'run_model_call_count': 2, 'messages': [AIMessage(content='The weather in SF is sunny!', additional_kwargs={'refusal': None}, response_metadata={'token_usage': {'completion_tokens': 15, 'prompt_tokens': 328, 'total_tokens': 343, 'completion_tokens_details': None, 'prompt_tokens_details': None}, 'model_provider': 'openai', 'model_name': 'ai/phi4', 'system_fingerprint': 'b1-ca71fb9', 'id': 'chatcmpl-oSbm5cDiqSHhwLtkSVOfojEIqTW8QUiI', 'service_tier': None, 'finish_reason': 'stop', 'logprobs': None}, id='lc_run--ac2a8ffb-189c-47a4-a6d8-15f0b266d882-0', usage_metadata={'input_tokens': 328, 'output_tokens': 15, 'total_tokens': 343, 'input_token_details': {}, 'output_token_details': {}})]}}\n",
      "\n",
      "\n"
     ]
    }
   ],
   "execution_count": 8
  }
 ],
 "metadata": {
  "kernelspec": {
   "name": "python3",
   "language": "python",
   "display_name": "Python 3 (ipykernel)"
  }
 },
 "nbformat": 4,
 "nbformat_minor": 5
}
