{
 "cells": [
  {
   "metadata": {},
   "cell_type": "markdown",
   "source": "### Langraph Persistence",
   "id": "a1c185a3c838658"
  },
  {
   "metadata": {
    "collapsed": true,
    "ExecuteTime": {
     "end_time": "2025-10-14T02:36:13.390526Z",
     "start_time": "2025-10-14T02:36:13.242084Z"
    }
   },
   "cell_type": "code",
   "source": [
    "from langgraph.graph import StateGraph, START, END\n",
    "from langgraph.checkpoint.memory import InMemorySaver\n",
    "from langchain_core.runnables import RunnableConfig\n",
    "from typing import Annotated\n",
    "from typing_extensions import TypedDict\n",
    "from operator import add\n",
    "from IPython.display import Image\n",
    "\n",
    "\n",
    "class State(TypedDict):\n",
    "    foo: str\n",
    "    bar: Annotated[list[str], add]\n",
    "\n",
    "def node_a(state: State):\n",
    "    return {\"foo\": \"a\", \"bar\": [\"a\"]}\n",
    "\n",
    "def node_b(state: State):\n",
    "    return {\"foo\": \"b\", \"bar\": [\"b\"]}\n",
    "\n",
    "\n",
    "workflow = StateGraph(State)\n",
    "workflow.add_node(node_a)\n",
    "workflow.add_node(node_b)\n",
    "workflow.add_edge(START, \"node_a\")\n",
    "workflow.add_edge(\"node_a\", \"node_b\")\n",
    "workflow.add_edge(\"node_b\", END)\n",
    "\n",
    "checkpointer = InMemorySaver()\n",
    "graph = workflow.compile(checkpointer=checkpointer)\n",
    "\n",
    "# Show the agent\n",
    "display(Image(graph.get_graph(xray=True).draw_mermaid_png()))\n",
    "\n",
    "\n",
    "config: RunnableConfig = {\"configurable\": {\"thread_id\": \"1\"}}\n",
    "graph.invoke({\"foo\": \"\"}, config)"
   ],
   "id": "72c6f83b98866f40",
   "outputs": [
    {
     "data": {
      "image/png": "[encoded data removed]",
      "text/plain": [
       "<IPython.core.display.Image object>"
      ]
     },
     "metadata": {},
     "output_type": "display_data"
    },
    {
     "data": {
      "text/plain": [
       "{'foo': 'b', 'bar': ['a', 'b']}"
      ]
     },
     "execution_count": 12,
     "metadata": {},
     "output_type": "execute_result"
    }
   ],
   "execution_count": 12
  },
  {
   "metadata": {
    "ExecuteTime": {
     "end_time": "2025-10-14T02:36:19.639592Z",
     "start_time": "2025-10-14T02:36:19.635440Z"
    }
   },
   "cell_type": "code",
   "source": [
    "# get the latest state snapshot\n",
    "config = {\"configurable\": {\"thread_id\": \"1\"}}\n",
    "graph.get_state(config)"
   ],
   "id": "da2af8af6f0712d5",
   "outputs": [
    {
     "data": {
      "text/plain": [
       "StateSnapshot(values={'foo': 'b', 'bar': ['a', 'b']}, next=(), config={'configurable': {'thread_id': '1', 'checkpoint_ns': '', 'checkpoint_id': '1f0a8a68-d1af-6e54-8002-cb8741ae0bb3'}}, metadata={'source': 'loop', 'step': 2, 'parents': {}}, created_at='2025-10-14T02:36:13.387929+00:00', parent_config={'configurable': {'thread_id': '1', 'checkpoint_ns': '', 'checkpoint_id': '1f0a8a68-d1ae-6c02-8001-980d197524ea'}}, tasks=(), interrupts=())"
      ]
     },
     "execution_count": 13,
     "metadata": {},
     "output_type": "execute_result"
    }
   ],
   "execution_count": 13
  },
  {
   "metadata": {
    "ExecuteTime": {
     "end_time": "2025-10-14T02:36:36.114828Z",
     "start_time": "2025-10-14T02:36:36.111795Z"
    }
   },
   "cell_type": "code",
   "source": [
    "# get a state snapshot for a specific checkpoint_id\n",
    "config = {\"configurable\": {\"thread_id\": \"1\", \"checkpoint_id\": \"1f0a8a68-d1af-6e54-8002-cb8741ae0bb3\"}}\n",
    "graph.get_state(config)"
   ],
   "id": "f0c0af8416c7bc1b",
   "outputs": [
    {
     "data": {
      "text/plain": [
       "StateSnapshot(values={'foo': 'b', 'bar': ['a', 'b']}, next=(), config={'configurable': {'thread_id': '1', 'checkpoint_id': '1f0a8a68-d1af-6e54-8002-cb8741ae0bb3'}}, metadata={'source': 'loop', 'step': 2, 'parents': {}}, created_at='2025-10-14T02:36:13.387929+00:00', parent_config={'configurable': {'thread_id': '1', 'checkpoint_ns': '', 'checkpoint_id': '1f0a8a68-d1ae-6c02-8001-980d197524ea'}}, tasks=(), interrupts=())"
      ]
     },
     "execution_count": 15,
     "metadata": {},
     "output_type": "execute_result"
    }
   ],
   "execution_count": 15
  },
  {
   "metadata": {
    "ExecuteTime": {
     "end_time": "2025-10-14T02:36:44.227406Z",
     "start_time": "2025-10-14T02:36:44.223134Z"
    }
   },
   "cell_type": "code",
   "source": [
    "# Get state history\n",
    "config = {\"configurable\": {\"thread_id\": \"1\"}}\n",
    "list(graph.get_state_history(config))"
   ],
   "id": "75c3474baf02fb77",
   "outputs": [
    {
     "data": {
      "text/plain": [
       "[StateSnapshot(values={'foo': 'b', 'bar': ['a', 'b']}, next=(), config={'configurable': {'thread_id': '1', 'checkpoint_ns': '', 'checkpoint_id': '1f0a8a68-d1af-6e54-8002-cb8741ae0bb3'}}, metadata={'source': 'loop', 'step': 2, 'parents': {}}, created_at='2025-10-14T02:36:13.387929+00:00', parent_config={'configurable': {'thread_id': '1', 'checkpoint_ns': '', 'checkpoint_id': '1f0a8a68-d1ae-6c02-8001-980d197524ea'}}, tasks=(), interrupts=()),\n",
       " StateSnapshot(values={'foo': 'a', 'bar': ['a']}, next=('node_b',), config={'configurable': {'thread_id': '1', 'checkpoint_ns': '', 'checkpoint_id': '1f0a8a68-d1ae-6c02-8001-980d197524ea'}}, metadata={'source': 'loop', 'step': 1, 'parents': {}}, created_at='2025-10-14T02:36:13.387460+00:00', parent_config={'configurable': {'thread_id': '1', 'checkpoint_ns': '', 'checkpoint_id': '1f0a8a68-d1ad-68f2-8000-48d840db4cda'}}, tasks=(PregelTask(id='a0aaca8e-145d-76bd-ca7a-2de660fcd73d', name='node_b', path=('__pregel_pull', 'node_b'), error=None, interrupts=(), state=None, result={'foo': 'b', 'bar': ['b']}),), interrupts=()),\n",
       " StateSnapshot(values={'foo': '', 'bar': []}, next=('node_a',), config={'configurable': {'thread_id': '1', 'checkpoint_ns': '', 'checkpoint_id': '1f0a8a68-d1ad-68f2-8000-48d840db4cda'}}, metadata={'source': 'loop', 'step': 0, 'parents': {}}, created_at='2025-10-14T02:36:13.386974+00:00', parent_config={'configurable': {'thread_id': '1', 'checkpoint_ns': '', 'checkpoint_id': '1f0a8a68-d1ac-6650-bfff-15f7626902e9'}}, tasks=(PregelTask(id='f2f96f63-bcd7-d956-1699-dea4f06c43a2', name='node_a', path=('__pregel_pull', 'node_a'), error=None, interrupts=(), state=None, result={'foo': 'a', 'bar': ['a']}),), interrupts=()),\n",
       " StateSnapshot(values={'bar': []}, next=('__start__',), config={'configurable': {'thread_id': '1', 'checkpoint_ns': '', 'checkpoint_id': '1f0a8a68-d1ac-6650-bfff-15f7626902e9'}}, metadata={'source': 'input', 'step': -1, 'parents': {}}, created_at='2025-10-14T02:36:13.386498+00:00', parent_config=None, tasks=(PregelTask(id='e3a71ea5-24a3-0ef0-faab-90f2380bbeb5', name='__start__', path=('__pregel_pull', '__start__'), error=None, interrupts=(), state=None, result={'foo': ''}),), interrupts=())]"
      ]
     },
     "execution_count": 16,
     "metadata": {},
     "output_type": "execute_result"
    }
   ],
   "execution_count": 16
  },
  {
   "metadata": {
    "ExecuteTime": {
     "end_time": "2025-10-14T02:26:49.149074Z",
     "start_time": "2025-10-14T02:26:49.141774Z"
    }
   },
   "cell_type": "code",
   "source": [
    "# Memory Store\n",
    "from langgraph.store.memory import InMemoryStore\n",
    "import uuid\n",
    "\n",
    "\n",
    "in_memory_store = InMemoryStore()\n",
    "\n",
    "user_id = \"1\"\n",
    "namespace_for_memory = (user_id, \"memories\")\n",
    "\n",
    "memory_id = str(uuid.uuid4())\n",
    "memory = {\"food_preference\" : \"I like pizza\"}\n",
    "in_memory_store.put(namespace_for_memory, memory_id, memory)\n",
    "\n",
    "memories = in_memory_store.search(namespace_for_memory)\n",
    "memories[-1].dict()\n",
    "{'value': {'food_preference': 'I like pizza'},\n",
    " 'key': '07e0caf4-1631-47b7-b15f-65515d4c1843',\n",
    " 'namespace': ['1', 'memories'],\n",
    " 'created_at': '2024-10-02T17:22:31.590602+00:00',\n",
    " 'updated_at': '2024-10-02T17:22:31.590605+00:00'}\n"
   ],
   "id": "d6bca25ded8b4cfd",
   "outputs": [
    {
     "data": {
      "text/plain": [
       "{'value': {'food_preference': 'I like pizza'},\n",
       " 'key': '07e0caf4-1631-47b7-b15f-65515d4c1843',\n",
       " 'namespace': ['1', 'memories'],\n",
       " 'created_at': '2024-10-02T17:22:31.590602+00:00',\n",
       " 'updated_at': '2024-10-02T17:22:31.590605+00:00'}"
      ]
     },
     "execution_count": 9,
     "metadata": {},
     "output_type": "execute_result"
    }
   ],
   "execution_count": 9
  },
  {
   "metadata": {
    "ExecuteTime": {
     "end_time": "2025-10-14T02:36:55.230692Z",
     "start_time": "2025-10-14T02:36:55.226355Z"
    }
   },
   "cell_type": "code",
   "source": [
    "# View the history of the thread\n",
    "\n",
    "config = {\n",
    "    \"configurable\": {\n",
    "        \"thread_id\": \"1\"\n",
    "    }\n",
    "}\n",
    "list(graph.get_state_history(config))"
   ],
   "id": "40178fd1c608315",
   "outputs": [
    {
     "data": {
      "text/plain": [
       "[StateSnapshot(values={'foo': 'b', 'bar': ['a', 'b']}, next=(), config={'configurable': {'thread_id': '1', 'checkpoint_ns': '', 'checkpoint_id': '1f0a8a68-d1af-6e54-8002-cb8741ae0bb3'}}, metadata={'source': 'loop', 'step': 2, 'parents': {}}, created_at='2025-10-14T02:36:13.387929+00:00', parent_config={'configurable': {'thread_id': '1', 'checkpoint_ns': '', 'checkpoint_id': '1f0a8a68-d1ae-6c02-8001-980d197524ea'}}, tasks=(), interrupts=()),\n",
       " StateSnapshot(values={'foo': 'a', 'bar': ['a']}, next=('node_b',), config={'configurable': {'thread_id': '1', 'checkpoint_ns': '', 'checkpoint_id': '1f0a8a68-d1ae-6c02-8001-980d197524ea'}}, metadata={'source': 'loop', 'step': 1, 'parents': {}}, created_at='2025-10-14T02:36:13.387460+00:00', parent_config={'configurable': {'thread_id': '1', 'checkpoint_ns': '', 'checkpoint_id': '1f0a8a68-d1ad-68f2-8000-48d840db4cda'}}, tasks=(PregelTask(id='a0aaca8e-145d-76bd-ca7a-2de660fcd73d', name='node_b', path=('__pregel_pull', 'node_b'), error=None, interrupts=(), state=None, result={'foo': 'b', 'bar': ['b']}),), interrupts=()),\n",
       " StateSnapshot(values={'foo': '', 'bar': []}, next=('node_a',), config={'configurable': {'thread_id': '1', 'checkpoint_ns': '', 'checkpoint_id': '1f0a8a68-d1ad-68f2-8000-48d840db4cda'}}, metadata={'source': 'loop', 'step': 0, 'parents': {}}, created_at='2025-10-14T02:36:13.386974+00:00', parent_config={'configurable': {'thread_id': '1', 'checkpoint_ns': '', 'checkpoint_id': '1f0a8a68-d1ac-6650-bfff-15f7626902e9'}}, tasks=(PregelTask(id='f2f96f63-bcd7-d956-1699-dea4f06c43a2', name='node_a', path=('__pregel_pull', 'node_a'), error=None, interrupts=(), state=None, result={'foo': 'a', 'bar': ['a']}),), interrupts=()),\n",
       " StateSnapshot(values={'bar': []}, next=('__start__',), config={'configurable': {'thread_id': '1', 'checkpoint_ns': '', 'checkpoint_id': '1f0a8a68-d1ac-6650-bfff-15f7626902e9'}}, metadata={'source': 'input', 'step': -1, 'parents': {}}, created_at='2025-10-14T02:36:13.386498+00:00', parent_config=None, tasks=(PregelTask(id='e3a71ea5-24a3-0ef0-faab-90f2380bbeb5', name='__start__', path=('__pregel_pull', '__start__'), error=None, interrupts=(), state=None, result={'foo': ''}),), interrupts=())]"
      ]
     },
     "execution_count": 17,
     "metadata": {},
     "output_type": "execute_result"
    }
   ],
   "execution_count": 17
  },
  {
   "metadata": {
    "ExecuteTime": {
     "end_time": "2025-10-14T02:37:03.310467Z",
     "start_time": "2025-10-14T02:37:03.308305Z"
    }
   },
   "cell_type": "code",
   "source": [
    "# Delete all checkpoints for a thread\n",
    "\n",
    "thread_id = \"1\"\n",
    "checkpointer.delete_thread(thread_id)"
   ],
   "id": "7ee32fcf4a7abec8",
   "outputs": [],
   "execution_count": 18
  },
  {
   "metadata": {
    "ExecuteTime": {
     "end_time": "2025-10-14T02:37:13.033264Z",
     "start_time": "2025-10-14T02:37:13.029543Z"
    }
   },
   "cell_type": "code",
   "source": "list(graph.get_state_history(config))",
   "id": "e2aa4681ffa9f9b0",
   "outputs": [
    {
     "data": {
      "text/plain": [
       "[]"
      ]
     },
     "execution_count": 19,
     "metadata": {},
     "output_type": "execute_result"
    }
   ],
   "execution_count": 19
  }
 ],
 "metadata": {
  "kernelspec": {
   "display_name": "Python 3",
   "language": "python",
   "name": "python3"
  },
  "language_info": {
   "codemirror_mode": {
    "name": "ipython",
    "version": 2
   },
   "file_extension": ".py",
   "mimetype": "text/x-python",
   "name": "python",
   "nbconvert_exporter": "python",
   "pygments_lexer": "ipython2",
   "version": "2.7.6"
  }
 },
 "nbformat": 4,
 "nbformat_minor": 5
}
