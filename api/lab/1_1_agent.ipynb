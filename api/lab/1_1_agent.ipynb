{
 "cells": [
  {
   "metadata": {},
   "cell_type": "markdown",
   "source": [
    "## Langchain\n",
    "### Agent"
   ],
   "id": "8a1830ef4847db3a"
  },
  {
   "metadata": {},
   "cell_type": "code",
   "outputs": [],
   "execution_count": null,
   "source": [
    "# Static Model\n",
    "from langchain.agents import create_agent\n",
    "from langchain_openai import ChatOpenAI\n",
    "\n",
    "model = ChatOpenAI(\n",
    "    model=\"gpt-5\",\n",
    "    temperature=0.1,\n",
    "    max_tokens=1000,\n",
    "    timeout=30\n",
    "    # ... (other params)\n",
    ")\n",
    "agent = create_agent(model)\n",
    "\n",
    "# model = ChatOpenAI(\n",
    "#     model=\"ai/phi4\",\n",
    "#     temperature=0.1,\n",
    "#     max_tokens=1000,\n",
    "#     timeout=30,\n",
    "#     base_url=\"http://localhost:12434/engines/v1\",\n",
    "#     api_key=\"docker\",\n",
    "# )\n",
    "# agent = create_agent(model, tools=tools)"
   ],
   "id": "8e4b62148aabb85c"
  },
  {
   "metadata": {
    "collapsed": true,
    "ExecuteTime": {
     "end_time": "2025-10-13T20:48:33.039153Z",
     "start_time": "2025-10-13T20:48:28.461786Z"
    }
   },
   "cell_type": "code",
   "source": [
    "# Dynamic Model\n",
    "from langchain_openai import ChatOpenAI\n",
    "from langchain.tools import tool\n",
    "from langchain.agents import create_agent\n",
    "from langchain.agents.middleware import wrap_model_call, ModelRequest #, ModelResponse\n",
    "\n",
    "\n",
    "\n",
    "@tool\n",
    "def search(query: str) -> str:\n",
    "    \"\"\"Search for information.\"\"\"\n",
    "    return f\"Results for: {query}\"\n",
    "\n",
    "@tool\n",
    "def get_weather(location: str) -> str:\n",
    "    \"\"\"Get weather information for a location.\"\"\"\n",
    "    return f\"Weather in {location}: Sunny, 72°F\"\n",
    "\n",
    "tools = [search, get_weather]\n",
    "\n",
    "basic_model = ChatOpenAI(model=\"ai/gemma3\", base_url=\"http://localhost:12434/engines/v1\", api_key=\"docker\")\n",
    "advanced_model = ChatOpenAI(model=\"ai/phi4\", base_url=\"http://localhost:12434/engines/v1\", api_key=\"docker\")\n",
    "\n",
    "\n",
    "@wrap_model_call\n",
    "def dynamic_model_selection(request: ModelRequest, handler):# -> ModelResponse:\n",
    "    \"\"\"Choose model based on conversation complexity.\"\"\"\n",
    "    message_count = len(request.state[\"messages\"])\n",
    "\n",
    "    if message_count > 10:\n",
    "        # Use advanced model for longer conversations\n",
    "        model = advanced_model\n",
    "    else:\n",
    "        model = basic_model\n",
    "\n",
    "    request.model = model\n",
    "    return handler(request)\n",
    "\n",
    "\n",
    "agent = create_agent(\n",
    "    model=basic_model,  # Default model\n",
    "    tools=tools,\n",
    "    middleware=[dynamic_model_selection],\n",
    "    system_prompt=\"You are a helpful assistant. Be concise and accurate.\"\n",
    ")\n",
    "\n",
    "agent.invoke( {\"messages\": [{\"role\": \"user\", \"content\": \"what is the weather in sf\"}]})"
   ],
   "id": "95e7f33cfc94973e",
   "outputs": [
    {
     "data": {
      "text/plain": [
       "{'messages': [HumanMessage(content='what is the weather in sf', additional_kwargs={}, response_metadata={}, id='bd3680f4-6663-4afa-9299-099614c895d0'),\n",
       "  AIMessage(content='', additional_kwargs={'refusal': None}, response_metadata={'token_usage': {'completion_tokens': 43, 'prompt_tokens': 342, 'total_tokens': 385, 'completion_tokens_details': None, 'prompt_tokens_details': None}, 'model_provider': 'openai', 'model_name': 'ai/gemma3', 'system_fingerprint': 'b1-ca71fb9', 'id': 'chatcmpl-raSBLCN6YDtqxtek2gOeWd99tHkzdXi2', 'service_tier': None, 'finish_reason': 'tool_calls', 'logprobs': None}, id='lc_run--fe21f453-8442-407c-93af-696dfd4000dc-0', tool_calls=[{'name': 'get_weather', 'args': {'location': 'sf'}, 'id': 'iaQzFbhfhP3GeKbxeeg6JolNGiGKlsir', 'type': 'tool_call'}], usage_metadata={'input_tokens': 342, 'output_tokens': 43, 'total_tokens': 385, 'input_token_details': {}, 'output_token_details': {}}),\n",
       "  ToolMessage(content='Weather in sf: Sunny, 72°F', name='get_weather', id='2fb369e8-a91a-4397-b7ca-085caa92365c', tool_call_id='iaQzFbhfhP3GeKbxeeg6JolNGiGKlsir'),\n",
       "  AIMessage(content='The weather in San Francisco is sunny and 72°F.', additional_kwargs={'refusal': None}, response_metadata={'token_usage': {'completion_tokens': 24, 'prompt_tokens': 489, 'total_tokens': 513, 'completion_tokens_details': None, 'prompt_tokens_details': None}, 'model_provider': 'openai', 'model_name': 'ai/gemma3', 'system_fingerprint': 'b1-ca71fb9', 'id': 'chatcmpl-gCGVUBZzDzw0MJttv7lrmayrQ9t4HEed', 'service_tier': None, 'finish_reason': 'stop', 'logprobs': None}, id='lc_run--4657e4f3-e6d5-4cfd-9809-cd54e69a5b16-0', usage_metadata={'input_tokens': 489, 'output_tokens': 24, 'total_tokens': 513, 'input_token_details': {}, 'output_token_details': {}})]}"
      ]
     },
     "execution_count": 6,
     "metadata": {},
     "output_type": "execute_result"
    }
   ],
   "execution_count": 6
  },
  {
   "metadata": {
    "ExecuteTime": {
     "end_time": "2025-10-13T20:53:44.357448Z",
     "start_time": "2025-10-13T20:53:11.095129Z"
    }
   },
   "cell_type": "code",
   "source": [
    "# Dynamic System Prompt\n",
    "from typing import TypedDict\n",
    "\n",
    "from langchain.agents import create_agent\n",
    "from langchain.agents.middleware import dynamic_prompt, ModelRequest\n",
    "\n",
    "class Context(TypedDict):\n",
    "    user_role: str\n",
    "\n",
    "@dynamic_prompt\n",
    "def user_role_prompt(request: ModelRequest) -> str:\n",
    "    \"\"\"Generate system prompt based on user role.\"\"\"\n",
    "    user_role = request.runtime.context.get(\"user_role\", \"user\")\n",
    "    base_prompt = \"You are a helpful assistant.\"\n",
    "\n",
    "    if user_role == \"expert\":\n",
    "        return f\"{base_prompt} Provide detailed technical responses.\"\n",
    "    elif user_role == \"beginner\":\n",
    "        return f\"{base_prompt} Explain concepts simply and avoid jargon.\"\n",
    "\n",
    "    return base_prompt\n",
    "\n",
    "agent = create_agent(\n",
    "    basic_model,\n",
    "    tools=[],\n",
    "    middleware=[user_role_prompt],\n",
    "    context_schema=Context\n",
    ")\n",
    "\n",
    "# The system prompt will be set dynamically based on context\n",
    "result = agent.invoke(\n",
    "    {\"messages\": [{\"role\": \"user\", \"content\": \"Explain machine learning\"}]},\n",
    "    context={\"user_role\": \"expert\"}\n",
    ")"
   ],
   "id": "e2f625460f3d7d41",
   "outputs": [],
   "execution_count": 8
  },
  {
   "metadata": {
    "ExecuteTime": {
     "end_time": "2025-10-13T20:54:03.063907Z",
     "start_time": "2025-10-13T20:54:03.058648Z"
    }
   },
   "cell_type": "code",
   "source": "result",
   "id": "c34f6a059b42a5bf",
   "outputs": [
    {
     "data": {
      "text/plain": [
       "{'messages': [HumanMessage(content='Explain machine learning', additional_kwargs={}, response_metadata={}, id='d83febd1-674c-4df7-a6f5-f7f850b2e52f'),\n",
       "  AIMessage(content='Okay, let\\'s dive into machine learning. It’s a massive and rapidly evolving field, so I’ll break it down into manageable pieces, covering the core concepts, different types, and some key considerations.\\n\\n**1. What is Machine Learning? (The Basic Idea)**\\n\\nAt its core, machine learning is about enabling computers to *learn* from data without being explicitly programmed.  Traditional programming involves writing specific instructions for a computer to follow. Machine learning, however, focuses on feeding a computer data and letting it figure out the rules and patterns itself.\\n\\nThink of it like teaching a dog a trick. You don’t tell the dog *exactly* how to sit (e.g., \"move your rear end 30 degrees, bend your legs at 45 degrees...\"). Instead, you show the dog what \"sit\" looks like, give it a reward when it does it correctly, and it eventually learns the association. Machine learning algorithms do something similar, but with data.\\n\\n**2. Key Components & Processes**\\n\\nHere’s a breakdown of the typical steps involved in a machine learning process:\\n\\n* **Data Collection:** The foundation of any ML project.  This involves gathering relevant data that can be used to train the model. The quality and quantity of data are *crucial* for success.  Data can come from many sources: databases, sensors, web scraping, APIs, etc.\\n* **Data Preparation (Preprocessing):**  Raw data is rarely directly usable. This step involves cleaning, transforming, and preparing the data for the algorithm:\\n    * **Cleaning:** Handling missing values, removing duplicates, correcting errors.\\n    * **Transformation:**  Converting data into a suitable format – this might involve scaling numerical values, encoding categorical variables (e.g., turning \"red,\" \"green,\" \"blue\" into numbers).\\n    * **Feature Engineering:**  Creating new features from existing ones that might be more informative for the model.  This often requires domain expertise.\\n* **Model Selection:** Choosing the appropriate machine learning algorithm for the task.  Different algorithms are suited to different types of problems.\\n* **Training:** This is where the magic happens! The chosen algorithm \"learns\" from the data. It adjusts its internal parameters to minimize errors and improve its ability to make accurate predictions.  This is often done using techniques like gradient descent.\\n* **Validation & Tuning:** Evaluating the model\\'s performance on a separate dataset (the *validation set*) to ensure it generalizes well to unseen data.  Parameters are adjusted to optimize performance.\\n* **Testing:**  A final evaluation on a completely separate dataset (the *test set*) to get an unbiased estimate of the model’s performance in the real world.\\n* **Deployment:** Putting the trained model into production – making it available to users or systems to make predictions.\\n\\n\\n**3. Types of Machine Learning**\\n\\nThere are several ways to categorize machine learning algorithms. Here are the most common:\\n\\n* **Supervised Learning:** The algorithm is trained on labeled data, meaning the correct answers are provided. The goal is for the algorithm to learn to predict the label for new, unseen data.\\n    * **Regression:** Predicting a continuous value (e.g., predicting house prices, stock prices).  Algorithms: Linear Regression, Support Vector Regression, Decision Tree Regression.\\n    * **Classification:** Predicting a categorical label (e.g., classifying emails as spam or not spam, identifying images of cats vs. dogs). Algorithms: Logistic Regression, Support Vector Machines (SVMs), Decision Trees, Random Forests, Naive Bayes.\\n* **Unsupervised Learning:** The algorithm is trained on unlabeled data. The goal is to discover hidden patterns or structures in the data.\\n    * **Clustering:** Grouping similar data points together (e.g., customer segmentation). Algorithms: K-Means, Hierarchical Clustering.\\n    * **Dimensionality Reduction:** Reducing the number of variables while preserving important information (e.g., simplifying complex datasets). Algorithms: Principal Component Analysis (PCA).\\n* **Reinforcement Learning:** The algorithm learns by interacting with an environment and receiving rewards or penalties for its actions.  Think of training a robot to navigate a maze. Algorithms: Q-learning, Deep Q-Networks (DQN).\\n\\n**4. Key Algorithms (A Few Examples)**\\n\\n* **Linear Regression:**  A simple and widely used algorithm for regression problems.\\n* **Logistic Regression:** Used for binary classification problems (two classes).\\n* **Decision Trees:**  Easy to interpret and visualize, often used for both classification and regression.\\n* **Support Vector Machines (SVMs):** Effective for both classification and regression, particularly in high-dimensional spaces.\\n* **Neural Networks (Deep Learning):**  Complex algorithms inspired by the structure of the human brain.  They’re particularly good at handling complex patterns in data, like images and text.\\n\\n**5. Important Considerations**\\n\\n* **Overfitting:**  When a model learns the training data *too* well and performs poorly on unseen data.\\n* **Underfitting:** When a model is too simple to capture the underlying patterns in the data.\\n* **Bias-Variance Tradeoff:**  There\\'s a fundamental tradeoff between how well a model fits the training data (bias) and how well it generalizes to unseen data (variance).\\n* **Interpretability:**  Some models (e.g., decision trees) are easier to understand and explain than others (e.g., deep neural networks).\\n\\n\\n**Resources for Further Learning:**\\n\\n* **Google AI Education:** [https://ai.google/education/](https://ai.google/education/)\\n* **Coursera & edX:** Offer numerous machine learning courses.\\n* **Scikit-learn Documentation:** [https://scikit-learn.org/](https://scikit-learn.org/) - Excellent resource for Python-based ML.\\n\\n---\\n\\nDo you want me to delve deeper into a specific aspect of machine learning, such as:\\n\\n*   A particular algorithm (e.g., neural networks, SVMs)?\\n*   A specific type of machine learning (e.g., reinforcement learning)?\\n*   A specific application of machine learning (e.g., image recognition, natural language processing)?\\n*   A more detailed explanation of a particular concept (e.g., overfitting, feature engineering)?', additional_kwargs={'refusal': None}, response_metadata={'token_usage': {'completion_tokens': 1324, 'prompt_tokens': 24, 'total_tokens': 1348, 'completion_tokens_details': None, 'prompt_tokens_details': None}, 'model_provider': 'openai', 'model_name': 'ai/gemma3', 'system_fingerprint': 'b1-ca71fb9', 'id': 'chatcmpl-lPDqwAUCZg90RbpE8bcy7pFw0Hiv2P4r', 'service_tier': None, 'finish_reason': 'stop', 'logprobs': None}, id='lc_run--74818aae-eaec-4b31-9b7c-e1c3778e3248-0', usage_metadata={'input_tokens': 24, 'output_tokens': 1324, 'total_tokens': 1348, 'input_token_details': {}, 'output_token_details': {}})]}"
      ]
     },
     "execution_count": 9,
     "metadata": {},
     "output_type": "execute_result"
    }
   ],
   "execution_count": 9
  },
  {
   "metadata": {
    "ExecuteTime": {
     "end_time": "2025-10-13T20:55:11.815279Z",
     "start_time": "2025-10-13T20:55:08.404459Z"
    }
   },
   "cell_type": "code",
   "source": [
    "# Structured output\n",
    "# ToolStrategy\n",
    "\n",
    "from pydantic import BaseModel\n",
    "from langchain.agents import create_agent\n",
    "from langchain.agents.structured_output import ToolStrategy\n",
    "\n",
    "class ContactInfo(BaseModel):\n",
    "    name: str\n",
    "    email: str\n",
    "    phone: str\n",
    "\n",
    "agent = create_agent(\n",
    "    basic_model,\n",
    "    tools=[],\n",
    "    response_format=ToolStrategy(ContactInfo)\n",
    ")\n",
    "\n",
    "result = agent.invoke({\n",
    "    \"messages\": [{\"role\": \"user\", \"content\": \"Extract contact info from: John Doe, john@example.com, (555) 123-4567\"}]\n",
    "})\n",
    "\n",
    "result[\"structured_response\"]\n",
    "# ContactInfo(name='John Doe', email='john@example.com', phone='(555) 123-4567')"
   ],
   "id": "1a2f2a87f620d2dd",
   "outputs": [
    {
     "data": {
      "text/plain": [
       "ContactInfo(name='John Doe', email='john@example.com', phone='(555) 123-4567')"
      ]
     },
     "execution_count": 10,
     "metadata": {},
     "output_type": "execute_result"
    }
   ],
   "execution_count": 10
  },
  {
   "metadata": {
    "ExecuteTime": {
     "end_time": "2025-10-13T20:55:56.380955Z",
     "start_time": "2025-10-13T20:55:54.218495Z"
    }
   },
   "cell_type": "code",
   "source": [
    "# ProviderStrategy\n",
    "from langchain.agents.structured_output import ProviderStrategy\n",
    "\n",
    "agent = create_agent(\n",
    "    basic_model,\n",
    "    response_format=ProviderStrategy(ContactInfo)\n",
    ")\n",
    "\n",
    "result = agent.invoke({\n",
    "    \"messages\": [{\"role\": \"user\", \"content\": \"Extract contact info from: John Doe, john@example.com, (555) 123-4567\"}]\n",
    "})\n",
    "\n",
    "result"
   ],
   "id": "8cd2b0baaffc8307",
   "outputs": [
    {
     "data": {
      "text/plain": [
       "{'messages': [HumanMessage(content='Extract contact info from: John Doe, john@example.com, (555) 123-4567', additional_kwargs={}, response_metadata={}, id='02819f7c-1969-4954-9865-6916eb999c3b'),\n",
       "  AIMessage(content='{\\n  \"name\": \"John Doe\",\\n  \"email\": \"john@example.com\",\\n  \"phone\": \"(555) 123-4567\"\\n}\\n', additional_kwargs={'parsed': None, 'refusal': None}, response_metadata={'token_usage': {'completion_tokens': 46, 'prompt_tokens': 37, 'total_tokens': 83, 'completion_tokens_details': None, 'prompt_tokens_details': None}, 'model_provider': 'openai', 'model_name': 'ai/gemma3', 'system_fingerprint': 'b1-ca71fb9', 'id': 'chatcmpl-ZeN46G2kl6NkQ2enbsk2XKQPSKP1HQeK', 'service_tier': None, 'finish_reason': 'stop', 'logprobs': None}, id='lc_run--d8f6d65c-f6bc-4cdd-8f9b-aee8e928ce8f-0', usage_metadata={'input_tokens': 37, 'output_tokens': 46, 'total_tokens': 83, 'input_token_details': {}, 'output_token_details': {}})],\n",
       " 'structured_response': ContactInfo(name='John Doe', email='john@example.com', phone='(555) 123-4567')}"
      ]
     },
     "execution_count": 11,
     "metadata": {},
     "output_type": "execute_result"
    }
   ],
   "execution_count": 11
  },
  {
   "metadata": {
    "ExecuteTime": {
     "end_time": "2025-10-13T20:56:44.230776Z",
     "start_time": "2025-10-13T20:56:37.188820Z"
    }
   },
   "cell_type": "code",
   "source": [
    "# Memory\n",
    "\n",
    "from typing import Annotated, TypedDict\n",
    "from langchain.agents import create_agent, AgentState\n",
    "from langchain.agents.middleware import AgentMiddleware\n",
    "\n",
    "# Define custom state extending AgentState\n",
    "class CustomAgentState(AgentState):\n",
    "    \"\"\"Extended state with user preferences.\"\"\"\n",
    "    user_preferences: dict\n",
    "\n",
    "# Create middleware with custom state\n",
    "class PreferencesMiddleware(AgentMiddleware[CustomAgentState]):\n",
    "    state_schema = CustomAgentState  # Set the state schema\n",
    "\n",
    "agent = create_agent(\n",
    "    basic_model,\n",
    "    tools=tools,\n",
    "    middleware=[PreferencesMiddleware()]\n",
    ")\n",
    "\n",
    "# The agent can now track additional state beyond messages\n",
    "result = agent.invoke({\n",
    "    \"messages\": [{\"role\": \"user\", \"content\": \"I prefer technical explanations\"}],\n",
    "    \"user_preferences\": {\"style\": \"technical\", \"verbosity\": \"detailed\"},\n",
    "})\n",
    "\n",
    "result"
   ],
   "id": "7d99c351b2d4bbea",
   "outputs": [
    {
     "data": {
      "text/plain": [
       "{'messages': [HumanMessage(content='I prefer technical explanations', additional_kwargs={}, response_metadata={}, id='779c8537-f5a1-4c9a-a04b-06c395e4adcb'),\n",
       "  AIMessage(content='', additional_kwargs={'refusal': None}, response_metadata={'token_usage': {'completion_tokens': 47, 'prompt_tokens': 340, 'total_tokens': 387, 'completion_tokens_details': None, 'prompt_tokens_details': None}, 'model_provider': 'openai', 'model_name': 'ai/gemma3', 'system_fingerprint': 'b1-ca71fb9', 'id': 'chatcmpl-wbcPF6Ep4qxVwwxgEbes1XXqmsH3dt14', 'service_tier': None, 'finish_reason': 'tool_calls', 'logprobs': None}, id='lc_run--036f915d-acbd-4c63-b85f-3929b6bc085a-0', tool_calls=[{'name': 'search', 'args': {'query': 'What is the current weather in London?'}, 'id': 'fncHftrKxe9TKjxqmYgVeVXYtH2weR1Q', 'type': 'tool_call'}], usage_metadata={'input_tokens': 340, 'output_tokens': 47, 'total_tokens': 387, 'input_token_details': {}, 'output_token_details': {}}),\n",
       "  ToolMessage(content='Results for: What is the current weather in London?', name='search', id='cb27b4fe-93e4-441c-ace8-5e6f5e53fe1e', tool_call_id='fncHftrKxe9TKjxqmYgVeVXYtH2weR1Q'),\n",
       "  AIMessage(content='', additional_kwargs={'refusal': None}, response_metadata={'token_usage': {'completion_tokens': 42, 'prompt_tokens': 496, 'total_tokens': 538, 'completion_tokens_details': None, 'prompt_tokens_details': None}, 'model_provider': 'openai', 'model_name': 'ai/gemma3', 'system_fingerprint': 'b1-ca71fb9', 'id': 'chatcmpl-8OgscPF1nkOPCaUI1ETWb65mTUjqO14e', 'service_tier': None, 'finish_reason': 'tool_calls', 'logprobs': None}, id='lc_run--743fc8ba-99b0-453f-a913-22e4277865cb-0', tool_calls=[{'name': 'get_weather', 'args': {'location': 'London'}, 'id': 'uPQesijGlldqxEDXCOoviSJA2eq9N22y', 'type': 'tool_call'}], usage_metadata={'input_tokens': 496, 'output_tokens': 42, 'total_tokens': 538, 'input_token_details': {}, 'output_token_details': {}}),\n",
       "  ToolMessage(content='Weather in London: Sunny, 72°F', name='get_weather', id='75787620-f5cf-41cd-9d2a-fd4d4aa7e801', tool_call_id='uPQesijGlldqxEDXCOoviSJA2eq9N22y'),\n",
       "  AIMessage(content='The weather in London is currently sunny with a temperature of 72°F.', additional_kwargs={'refusal': None}, response_metadata={'token_usage': {'completion_tokens': 27, 'prompt_tokens': 643, 'total_tokens': 670, 'completion_tokens_details': None, 'prompt_tokens_details': None}, 'model_provider': 'openai', 'model_name': 'ai/gemma3', 'system_fingerprint': 'b1-ca71fb9', 'id': 'chatcmpl-6R9tp31VytXBUMkmspX916tP3J2eCs13', 'service_tier': None, 'finish_reason': 'stop', 'logprobs': None}, id='lc_run--b9a2dfab-c3a0-4bf5-957d-dc054c74bbdc-0', usage_metadata={'input_tokens': 643, 'output_tokens': 27, 'total_tokens': 670, 'input_token_details': {}, 'output_token_details': {}})],\n",
       " 'user_preferences': {'style': 'technical', 'verbosity': 'detailed'}}"
      ]
     },
     "execution_count": 12,
     "metadata": {},
     "output_type": "execute_result"
    }
   ],
   "execution_count": 12
  },
  {
   "metadata": {},
   "cell_type": "code",
   "outputs": [],
   "execution_count": null,
   "source": [
    "# Before model hook\n",
    "from langchain.messages import RemoveMessage\n",
    "from langgraph.graph.message import REMOVE_ALL_MESSAGES\n",
    "from langchain.agents import create_agent, AgentState\n",
    "from langchain.agents.middleware import before_model\n",
    "from langgraph.runtime import Runtime\n",
    "\n",
    "@before_model\n",
    "def trim_messages(state: AgentState, runtime: Runtime) -> dict[str, Any] | None:\n",
    "    \"\"\"Keep only the last few messages to fit context window.\"\"\"\n",
    "    messages = state[\"messages\"]\n",
    "\n",
    "    if len(messages) <= 3:\n",
    "        return None  # No changes needed\n",
    "\n",
    "    first_msg = messages[0]\n",
    "    recent_messages = messages[-3:] if len(messages) % 2 == 0 else messages[-4:]\n",
    "    new_messages = [first_msg] + recent_messages\n",
    "\n",
    "    return {\n",
    "        \"messages\": [\n",
    "            RemoveMessage(id=REMOVE_ALL_MESSAGES),\n",
    "            *new_messages\n",
    "        ]\n",
    "    }\n",
    "\n",
    "agent = create_agent(\n",
    "    advanced_model,\n",
    "    tools=tools,\n",
    "    middleware=[trim_messages]\n",
    ")"
   ],
   "id": "ac24f484f6a0e5ff"
  },
  {
   "metadata": {},
   "cell_type": "code",
   "outputs": [],
   "execution_count": null,
   "source": [
    "# After model hook\n",
    "from typing import Any\n",
    "from langchain.messages import AIMessage, RemoveMessage\n",
    "from langgraph.graph.message import REMOVE_ALL_MESSAGES\n",
    "from langchain.agents import create_agent, AgentState\n",
    "from langchain.agents.middleware import after_model\n",
    "from langgraph.runtime import Runtime\n",
    "\n",
    "@after_model\n",
    "def validate_response(state: AgentState, runtime: Runtime) -> dict[str, Any] | None:\n",
    "    \"\"\"Check model response for policy violations.\"\"\"\n",
    "    messages = state[\"messages\"]\n",
    "    last_message = messages[-1]\n",
    "\n",
    "    if \"confidential\" in last_message.content.lower():\n",
    "        return {\n",
    "            \"messages\": [\n",
    "                RemoveMessage(id=REMOVE_ALL_MESSAGES),\n",
    "                *messages[:-1],\n",
    "                AIMessage(content=\"I cannot share confidential information.\")\n",
    "            ]\n",
    "        }\n",
    "\n",
    "    return None  # No changes needed\n",
    "\n",
    "agent = create_agent(\n",
    "    model,\n",
    "    tools=tools,\n",
    "    middleware=[validate_response]\n",
    ")"
   ],
   "id": "8f2746f1f4c77475"
  },
  {
   "metadata": {
    "ExecuteTime": {
     "end_time": "2025-10-13T20:59:19.542100Z",
     "start_time": "2025-10-13T20:59:10.937226Z"
    }
   },
   "cell_type": "code",
   "source": [
    "# Streaming\n",
    "for chunk in agent.stream({\n",
    "    \"messages\": [{\"role\": \"user\", \"content\": \"Search for AI news and summarize the findings\"}]\n",
    "}, stream_mode=\"values\"):\n",
    "    # Each chunk contains the full state at that point\n",
    "    latest_message = chunk[\"messages\"][-1]\n",
    "    if latest_message.content:\n",
    "        print(f\"Agent: {latest_message.content}\")\n",
    "    elif latest_message.tool_calls:\n",
    "        print(f\"Calling tools: {[tc['name'] for tc in latest_message.tool_calls]}\")"
   ],
   "id": "863cc8edead52b07",
   "outputs": [
    {
     "name": "stdout",
     "output_type": "stream",
     "text": [
      "Agent: Search for AI news and summarize the findings\n",
      "Calling tools: ['search']\n",
      "Agent: Results for: AI news summary\n",
      "Agent: Here's a summary of recent AI news:\n",
      "\n",
      "*   **Google's Gemini AI Model Faces Scrutiny:** Concerns are rising regarding Gemini's performance and potential biases. Reports suggest it struggles with certain reasoning tasks and exhibits problematic behavior in some tests.\n",
      "*   **OpenAI’s GPT-4o Launch:** OpenAI has released GPT-4o, a multimodal model capable of processing audio, text, and images in real-time. It’s being lauded for its speed and responsiveness in conversational settings.\n",
      "*   **AI Regulation Discussions Continue:** Governments worldwide are intensifying discussions on regulating AI development and deployment. The EU's AI Act is nearing finalization, and the US is exploring various approaches.\n",
      "*   **AI-Powered Drug Discovery Advances:** Several companies are utilizing AI to accelerate drug discovery, with promising results in identifying potential drug candidates and predicting their effectiveness.\n",
      "*   **AI and Cybersecurity Risks:** Experts warn about the increasing use of AI by cybercriminals, leading to more sophisticated and targeted attacks.\n"
     ]
    }
   ],
   "execution_count": 13
  }
 ],
 "metadata": {
  "kernelspec": {
   "display_name": "Python 3",
   "language": "python",
   "name": "python3"
  },
  "language_info": {
   "codemirror_mode": {
    "name": "ipython",
    "version": 2
   },
   "file_extension": ".py",
   "mimetype": "text/x-python",
   "name": "python",
   "nbconvert_exporter": "python",
   "pygments_lexer": "ipython2",
   "version": "2.7.6"
  }
 },
 "nbformat": 4,
 "nbformat_minor": 5
}
