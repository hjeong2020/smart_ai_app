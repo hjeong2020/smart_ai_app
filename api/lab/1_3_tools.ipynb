{
 "cells": [
  {
   "metadata": {
    "ExecuteTime": {
     "end_time": "2025-10-14T21:52:04.457505Z",
     "start_time": "2025-10-14T21:51:58.607997Z"
    }
   },
   "cell_type": "code",
   "source": [
    "from dataclasses import dataclass\n",
    "from langchain_openai import ChatOpenAI\n",
    "from langchain.agents import create_agent\n",
    "from langchain.tools import tool\n",
    "from langgraph.runtime import get_runtime\n",
    "\n",
    "USER_DATABASE = {\n",
    "    \"user123\": {\n",
    "        \"name\": \"Alice Johnson\",\n",
    "        \"account_type\": \"Premium\",\n",
    "        \"balance\": 5000,\n",
    "        \"email\": \"alice@example.com\"\n",
    "    },\n",
    "    \"user456\": {\n",
    "        \"name\": \"Bob Smith\",\n",
    "        \"account_type\": \"Standard\",\n",
    "        \"balance\": 1200,\n",
    "        \"email\": \"bob@example.com\"\n",
    "    }\n",
    "}\n",
    "\n",
    "@dataclass\n",
    "class UserContext:\n",
    "    user_id: str\n",
    "\n",
    "@tool\n",
    "def get_account_info() -> str:\n",
    "    \"\"\"Get the current user's account information.\"\"\"\n",
    "    runtime = get_runtime(UserContext)\n",
    "    user_id = runtime.context.user_id\n",
    "\n",
    "    if user_id in USER_DATABASE:\n",
    "        user = USER_DATABASE[user_id]\n",
    "        return f\"Account holder: {user['name']}\\nType: {user['account_type']}\\nBalance: ${user['balance']}\"\n",
    "    return \"User not found\"\n",
    "\n",
    "model = ChatOpenAI(\n",
    "    base_url=\"http://localhost:12434/engines/v1\",\n",
    "    api_key=\"docker\",\n",
    "    temperature=0,\n",
    "    model=\"ai/gemma3\"\n",
    ")\n",
    "agent = create_agent(\n",
    "    model,\n",
    "    tools=[get_account_info],\n",
    "    context_schema=UserContext,\n",
    "    system_prompt=\"You are a financial assistant.\"\n",
    ")\n",
    "\n",
    "result = agent.invoke(\n",
    "    {\"messages\": [{\"role\": \"user\", \"content\": \"What's my current balance?\"}]},\n",
    "    context=UserContext(user_id=\"user123\")\n",
    ")"
   ],
   "id": "34cafc6566e5bfc8",
   "outputs": [],
   "execution_count": 1
  },
  {
   "metadata": {
    "ExecuteTime": {
     "end_time": "2025-10-14T21:52:11.336624Z",
     "start_time": "2025-10-14T21:52:11.330736Z"
    }
   },
   "cell_type": "code",
   "source": "result",
   "id": "4776f13256258999",
   "outputs": [
    {
     "data": {
      "text/plain": [
       "{'messages': [HumanMessage(content=\"What's my current balance?\", additional_kwargs={}, response_metadata={}, id='a8d515e3-a48f-4cf2-af6c-9fc6b5ac2f77'),\n",
       "  AIMessage(content='', additional_kwargs={'refusal': None}, response_metadata={'token_usage': {'completion_tokens': 37, 'prompt_tokens': 227, 'total_tokens': 264, 'completion_tokens_details': None, 'prompt_tokens_details': None}, 'model_provider': 'openai', 'model_name': 'ai/gemma3', 'system_fingerprint': 'b1-ca71fb9', 'id': 'chatcmpl-d1i3jlVuCLjRrRb9pXIbCxuT8MvdUMlQ', 'service_tier': None, 'finish_reason': 'tool_calls', 'logprobs': None}, id='lc_run--9aecb027-474c-4ad7-a164-a71d03ea4371-0', tool_calls=[{'name': 'get_account_info', 'args': {}, 'id': 'HbYG4SvEFfVbc4EgzqcIv2pO7OKSdyX5', 'type': 'tool_call'}], usage_metadata={'input_tokens': 227, 'output_tokens': 37, 'total_tokens': 264, 'input_token_details': {}, 'output_token_details': {}}),\n",
       "  ToolMessage(content='Account holder: Alice Johnson\\nType: Premium\\nBalance: $5000', name='get_account_info', id='a2e73fa6-9ca0-4501-b8ce-8a56d03bf2e7', tool_call_id='HbYG4SvEFfVbc4EgzqcIv2pO7OKSdyX5'),\n",
       "  AIMessage(content='Your current balance is $5000.', additional_kwargs={'refusal': None}, response_metadata={'token_usage': {'completion_tokens': 20, 'prompt_tokens': 375, 'total_tokens': 395, 'completion_tokens_details': None, 'prompt_tokens_details': None}, 'model_provider': 'openai', 'model_name': 'ai/gemma3', 'system_fingerprint': 'b1-ca71fb9', 'id': 'chatcmpl-thPwQP2JB1DP3DdkDsAmc7uTM4IF6eoF', 'service_tier': None, 'finish_reason': 'stop', 'logprobs': None}, id='lc_run--3805e6ab-ea2e-4a01-a1c4-a1b676242e59-0', usage_metadata={'input_tokens': 375, 'output_tokens': 20, 'total_tokens': 395, 'input_token_details': {}, 'output_token_details': {}})]}"
      ]
     },
     "execution_count": 2,
     "metadata": {},
     "output_type": "execute_result"
    }
   ],
   "execution_count": 2
  },
  {
   "metadata": {
    "ExecuteTime": {
     "end_time": "2025-10-14T21:53:36.832765Z",
     "start_time": "2025-10-14T21:53:26.184867Z"
    }
   },
   "cell_type": "code",
   "source": [
    "# Memory\n",
    "from typing import Any\n",
    "from langgraph.runtime import get_runtime\n",
    "from langgraph.store.memory import InMemoryStore\n",
    "from langchain.agents import create_agent\n",
    "from langchain.tools import tool\n",
    "\n",
    "# Access memory\n",
    "@tool\n",
    "def get_user_info(user_id: str) -> str:\n",
    "    \"\"\"Look up user info.\"\"\"\n",
    "    store = get_runtime().store\n",
    "    user_info = store.get((\"users\",), user_id)\n",
    "    return str(user_info.value) if user_info else \"Unknown user\"\n",
    "\n",
    "# Update memory\n",
    "@tool\n",
    "def save_user_info(user_id: str, user_info: dict[str, Any]) -> str:\n",
    "    \"\"\"Save user info.\"\"\"\n",
    "    store = get_runtime().store\n",
    "    store.put((\"users\",), user_id, user_info)\n",
    "    return \"Successfully saved user info.\"\n",
    "\n",
    "store = InMemoryStore()\n",
    "agent = create_agent(\n",
    "    model,\n",
    "    tools=[get_user_info, save_user_info],\n",
    "    store=store\n",
    ")\n",
    "\n",
    "# First session: save user info\n",
    "agent.invoke({\n",
    "    \"messages\": [{\"role\": \"user\", \"content\": \"Save the following user: userid: abc123, name: Foo, age: 25, email: foo@langchain.dev\"}]\n",
    "})\n",
    "\n",
    "# Second session: get user info\n",
    "agent.invoke({\n",
    "    \"messages\": [{\"role\": \"user\", \"content\": \"Get user info for user with id 'abc123'\"}]\n",
    "})\n",
    "# Here is the user info for user with ID \"abc123\":\n",
    "# - Name: Foo\n",
    "# - Age: 25\n",
    "# - Email: foo@langchain.dev"
   ],
   "id": "6d1e60e8e788fc55",
   "outputs": [
    {
     "data": {
      "text/plain": [
       "{'messages': [HumanMessage(content=\"Get user info for user with id 'abc123'\", additional_kwargs={}, response_metadata={}, id='dfa55e31-ee53-4311-9875-7837ff477b95'),\n",
       "  AIMessage(content='', additional_kwargs={'refusal': None}, response_metadata={'token_usage': {'completion_tokens': 50, 'prompt_tokens': 395, 'total_tokens': 445, 'completion_tokens_details': None, 'prompt_tokens_details': None}, 'model_provider': 'openai', 'model_name': 'ai/gemma3', 'system_fingerprint': 'b1-ca71fb9', 'id': 'chatcmpl-tyxUnGgEjiJUcSW6jPnWBVY4nZD6YDuB', 'service_tier': None, 'finish_reason': 'tool_calls', 'logprobs': None}, id='lc_run--e5692d6e-d12e-48fb-bd9e-f7ead9d9b873-0', tool_calls=[{'name': 'get_user_info', 'args': {'user_id': 'abc123'}, 'id': '7hyeDkr7qPu1ARtQfGMlJXEpBCCZjbQh', 'type': 'tool_call'}], usage_metadata={'input_tokens': 395, 'output_tokens': 50, 'total_tokens': 445, 'input_token_details': {}, 'output_token_details': {}}),\n",
       "  ToolMessage(content=\"{'name': 'Foo', 'age': 25, 'email': 'foo@langchain.dev'}\", name='get_user_info', id='0504257f-2d62-4ba3-ac91-9627da0c7642', tool_call_id='7hyeDkr7qPu1ARtQfGMlJXEpBCCZjbQh'),\n",
       "  AIMessage(content=\"User info for user with id 'abc123': {\\n  'name': 'Foo', \\n  'age': 25, \\n  'email': 'foo@langchain.dev'\\n}\", additional_kwargs={'refusal': None}, response_metadata={'token_usage': {'completion_tokens': 57, 'prompt_tokens': 568, 'total_tokens': 625, 'completion_tokens_details': None, 'prompt_tokens_details': None}, 'model_provider': 'openai', 'model_name': 'ai/gemma3', 'system_fingerprint': 'b1-ca71fb9', 'id': 'chatcmpl-4mYPML8OKArMzkIAooz2W0Lae3FJpa44', 'service_tier': None, 'finish_reason': 'stop', 'logprobs': None}, id='lc_run--6cda8a34-9127-4b0f-882f-a78f79ed2cd2-0', usage_metadata={'input_tokens': 568, 'output_tokens': 57, 'total_tokens': 625, 'input_token_details': {}, 'output_token_details': {}})]}"
      ]
     },
     "execution_count": 3,
     "metadata": {},
     "output_type": "execute_result"
    }
   ],
   "execution_count": 3
  }
 ],
 "metadata": {
  "kernelspec": {
   "display_name": "Python 3",
   "language": "python",
   "name": "python3"
  },
  "language_info": {
   "codemirror_mode": {
    "name": "ipython",
    "version": 2
   },
   "file_extension": ".py",
   "mimetype": "text/x-python",
   "name": "python",
   "nbconvert_exporter": "python",
   "pygments_lexer": "ipython2",
   "version": "2.7.6"
  }
 },
 "nbformat": 4,
 "nbformat_minor": 5
}
